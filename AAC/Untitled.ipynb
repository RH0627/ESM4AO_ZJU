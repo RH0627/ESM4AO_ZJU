{
 "cells": [
  {
   "cell_type": "code",
   "execution_count": 1,
   "id": "bd12b407",
   "metadata": {},
   "outputs": [],
   "source": [
    "import pandas as pd\n",
    "X_new = pd.read_csv('C:/Users/RH/A_whole_try_prog/AAC/AAC_embedding.csv', delimiter=',',header = None,index_col= 0, skiprows=1)\n",
    "X_out = pd.read_csv('C:/Users/RH/A_whole_try_prog/AAC/X_test_AAC.csv',delimiter=',',header = None,index_col= 0, skiprows=1)\n",
    "X_out_Sequence = pd.read_csv('C:/Users/RH/A_whole_try_prog/X_test_nr.csv',delimiter=',',header = None,index_col= 0, dtype={0: int},skiprows=1)\n",
    "# load numpy array from csv file\n",
    "from numpy import loadtxt\n",
    "import numpy as np\n",
    "# load array\n",
    "y_new = loadtxt('C:/Users/RH/A_whole_try_prog/AAC/y_clean_AAC.csv', delimiter=',')\n"
   ]
  },
  {
   "cell_type": "code",
   "execution_count": 2,
   "id": "7ca6b1db",
   "metadata": {},
   "outputs": [
    {
     "name": "stdout",
     "output_type": "stream",
     "text": [
      "(877, 20)\n",
      "(877,)\n",
      "310\n",
      "567\n"
     ]
    }
   ],
   "source": [
    "print(X_new.shape)\n",
    "print(y_new.shape)\n",
    "print(np.count_nonzero(y_new==0))\n",
    "print(np.count_nonzero(y_new==1))"
   ]
  },
  {
   "cell_type": "code",
   "execution_count": 3,
   "id": "e67b2230",
   "metadata": {},
   "outputs": [],
   "source": [
    "import statistics\n",
    "from sklearn.metrics import balanced_accuracy_score\n",
    "from self_function import evaluation as eva"
   ]
  },
  {
   "cell_type": "code",
   "execution_count": 4,
   "id": "426a4706",
   "metadata": {},
   "outputs": [],
   "source": [
    "# dataset splitting \n",
    "from sklearn.model_selection import train_test_split\n",
    "X_train_whole, X_ind_test, y_train_whole, y_ind_test =  train_test_split(X_new, y_new, test_size=0.2, random_state=2001)"
   ]
  },
  {
   "cell_type": "code",
   "execution_count": 5,
   "id": "af267d40",
   "metadata": {},
   "outputs": [
    {
     "name": "stdout",
     "output_type": "stream",
     "text": [
      "About model development\n",
      "Best Parameters:{'C': 8, 'solver': 'lbfgs'}\n",
      "Best cross_validation socre:0.968\n",
      "Test set score:0.97\n",
      "Best_estimator:\n",
      "LogisticRegression(C=8, class_weight='balanced', max_iter=5000)\n",
      "BACC =  0.901 ± 0.035\n",
      "Recall =  0.839 ± 0.054\n",
      "Precision =  0.939 ± 0.035\n",
      "MCC =  0.817 ± 0.067\n",
      "F1 score =  0.886 ± 0.043\n",
      "ROC_AUC =  0.978 ± 0.009\n",
      "None\n",
      "Sorted Sequence, Predictions, and Probabilities:\n",
      "[['VHH' 1 1.0 0.9995585189805404]\n",
      " ['PP' 0 1.0 0.9602727517526459]\n",
      " ['HLPLP' 0 1.0 0.939002921786653]\n",
      " ['LLPHHADADY' 1 1.0 0.9294292670374633]\n",
      " ['VNPHDHQN' 1 1.0 0.9070931733294714]\n",
      " ['VIPAGYP' 1 1.0 0.9037433363871116]\n",
      " ['LWL' 0 1.0 0.8918619051773451]\n",
      " ['VHHANEN' 1 1.0 0.8629318351874767]\n",
      " ['LVNPHDHQN' 1 1.0 0.8523320553198657]\n",
      " ['AHK' 1 1.0 0.8022962853379847]\n",
      " ['LQSGDALRVPSGTTYY' 1 1.0 0.6466966399795839]\n",
      " ['VLPIPQ' 0 0.0 0.41879103567563636]\n",
      " ['SVPQPK' 0 0.0 0.3780097513661172]\n",
      " ['PLAQPA' 0 0.0 0.35163169881481193]\n",
      " ['EVPKA' 0 0.0 0.17302423872366363]\n",
      " ['IVF' 0 0.0 0.13816690196809345]\n",
      " ['LLNPT' 0 0.0 0.13675177721770124]\n",
      " ['FSL' 0 0.0 0.12849586526403867]\n",
      " ['VVKL' 1 0.0 0.08787424713531328]\n",
      " ['VKL' 1 0.0 0.06245013631186215]]\n"
     ]
    }
   ],
   "source": [
    "# logistic regresion l2 penality and class_weight\n",
    "from sklearn.linear_model import LogisticRegression\n",
    "from sklearn.model_selection import GridSearchCV\n",
    "clf = LogisticRegression(class_weight='balanced',penalty= 'l2', max_iter = 5000)\n",
    "param_grid = {'C':[8,10,20,40,100,200],'solver':['lbfgs','saga']}\n",
    "grid_search = GridSearchCV(clf,param_grid,cv=10,n_jobs=-1,scoring='precision')\n",
    "grid_search.fit(X_train_whole,y_train_whole)\n",
    "best_model_reg = grid_search.best_estimator_\n",
    "y_pred = best_model_reg.predict(X_out)\n",
    "\n",
    "\n",
    "\n",
    "#print the model's parameters and validation score\n",
    "print(\"About model development\")\n",
    "print(\"Best Parameters:{}\".format(grid_search.best_params_))\n",
    "print(\"Best cross_validation socre:{:.3f}\".format(grid_search.best_score_))\n",
    "print(\"Test set score:{:.2f}\".format(grid_search.score(X_ind_test,y_ind_test)))\n",
    "print(\"Best_estimator:\\n{}\".format(grid_search.best_estimator_))\n",
    "\n",
    "#model performance evaluation:BACC & recall & accuracy & MCC & f1 score& roc_auc\n",
    "evaluation = eva(best_model_reg,X_new,y_new)\n",
    "print(evaluation)\n",
    "\n",
    "\n",
    "\n",
    "# get the probability of class 1\n",
    "y_pred_prob = best_model_reg.predict_proba(X_out)[:, 1]\n",
    "\n",
    "# Sort the predictions according to the probability of class 1\n",
    "sorted_indices = np.argsort(y_pred_prob)[::-1]  # Returns the index in descending order\n",
    "\n",
    "# Getting predictions and probabilities by sorted index\n",
    "sorted_y_pred = y_pred[sorted_indices]\n",
    "sorted_prob = y_pred_prob[sorted_indices]\n",
    "\n",
    "sorted_sequence = X_out_Sequence.iloc[sorted_indices]\n",
    "\n",
    "output = np.column_stack((sorted_sequence, sorted_y_pred, sorted_prob))\n",
    "\n",
    "print(\"Sorted Sequence, Predictions, and Probabilities:\")\n",
    "print(output)"
   ]
  },
  {
   "cell_type": "code",
   "execution_count": null,
   "id": "07ec8b38",
   "metadata": {},
   "outputs": [],
   "source": []
  },
  {
   "cell_type": "code",
   "execution_count": null,
   "id": "4846007b",
   "metadata": {},
   "outputs": [],
   "source": []
  },
  {
   "cell_type": "code",
   "execution_count": null,
   "id": "b7ded694",
   "metadata": {},
   "outputs": [],
   "source": []
  },
  {
   "cell_type": "code",
   "execution_count": null,
   "id": "2171346c",
   "metadata": {},
   "outputs": [],
   "source": []
  }
 ],
 "metadata": {
  "kernelspec": {
   "display_name": "Python 3 (ipykernel)",
   "language": "python",
   "name": "python3"
  },
  "language_info": {
   "codemirror_mode": {
    "name": "ipython",
    "version": 3
   },
   "file_extension": ".py",
   "mimetype": "text/x-python",
   "name": "python",
   "nbconvert_exporter": "python",
   "pygments_lexer": "ipython3",
   "version": "3.9.13"
  }
 },
 "nbformat": 4,
 "nbformat_minor": 5
}
