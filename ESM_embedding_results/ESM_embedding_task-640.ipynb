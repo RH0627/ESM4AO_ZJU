{
 "cells": [
  {
   "cell_type": "code",
   "execution_count": 8,
   "id": "5316fe7d",
   "metadata": {},
   "outputs": [],
   "source": [
    "import os\n",
    "os.chdir('C:/Users/RH/A_whole_try_prog/y_test_data')"
   ]
  },
  {
   "cell_type": "code",
   "execution_count": 9,
   "id": "f60ae47e",
   "metadata": {},
   "outputs": [
    {
     "name": "stdout",
     "output_type": "stream",
     "text": [
      "1.5.3\n",
      "1.22.0\n",
      "2.0.0\n",
      "2.0.0\n"
     ]
    }
   ],
   "source": [
    "import pandas as pd\n",
    "import numpy as np\n",
    "import esm\n",
    "import torch\n",
    "\n",
    "print(pd.__version__)\n",
    "print(np.__version__)\n",
    "print(esm.__version__)\n",
    "print(torch.__version__)"
   ]
  },
  {
   "cell_type": "code",
   "execution_count": 10,
   "id": "51def8ca",
   "metadata": {},
   "outputs": [],
   "source": [
    "import numpy as np\n",
    "import pandas as pd"
   ]
  },
  {
   "cell_type": "code",
   "execution_count": 11,
   "id": "ffcfda71",
   "metadata": {},
   "outputs": [],
   "source": [
    "#training dataset loading\n",
    "#打开指定路径的excel文件\n",
    "excel_path = r'C:\\Users\\RH\\A_whole_try_prog\\X_test.xlsx'\n",
    "dataset = pd.read_excel(excel_path, na_filter=False)\n",
    "sequence_list = dataset['Sequence']"
   ]
  },
  {
   "cell_type": "code",
   "execution_count": 12,
   "id": "bfe38912",
   "metadata": {},
   "outputs": [
    {
     "name": "stdout",
     "output_type": "stream",
     "text": [
      "0                 HVRETALV\n",
      "1                      YFE\n",
      "2                     PHYL\n",
      "3     IANNEADAISLDGGQVFEAG\n",
      "4                      CHI\n",
      "5                      LPL\n",
      "6                      LQL\n",
      "7                      YNL\n",
      "8                    IEEAF\n",
      "9                     FEQL\n",
      "10                  SVPQPK\n",
      "11                   EVPKA\n",
      "12                  PLAQPA\n",
      "13                   LLNPT\n",
      "14                   HLPLP\n",
      "15                  VLPIPQ\n",
      "16                     LWL\n",
      "17                     PWK\n",
      "18                     PWM\n",
      "19                     RWD\n",
      "Name: Sequence, dtype: object\n"
     ]
    }
   ],
   "source": [
    "print(sequence_list)"
   ]
  },
  {
   "cell_type": "raw",
   "id": "bde309e0",
   "metadata": {},
   "source": [
    "#loading the y_label dataset for model development\n",
    "import numpy as np\n",
    "\n",
    "# loading the y dataset for model development\n",
    "y_group = dataset['group']\n",
    "# change the label\n",
    "y = np.array([])  # Initialize an empty NumPy array\n",
    "\n",
    "for each in y_group:\n",
    "    if each == 'A':\n",
    "        y = np.append(y, 0)\n",
    "    elif each == 'B':\n",
    "        y = np.append(y, 1)\n",
    "    elif each == 'C':\n",
    "        y = np.append(y, 2)\n",
    "    elif each == 'D':\n",
    "        y = np.append(y, 3)\n",
    "\n",
    "y = np.array(y)  # transformed as np.array for CNN model"
   ]
  },
  {
   "cell_type": "code",
   "execution_count": 13,
   "id": "60f75883",
   "metadata": {},
   "outputs": [
    {
     "name": "stdout",
     "output_type": "stream",
     "text": [
      "[('HVRETALV', 'HVRETALV'), ('YFE', 'YFE'), ('PHYL', 'PHYL'), ('IANNEADAISLDGGQVFEAG', 'IANNEADAISLDGGQVFEAG'), ('CHI', 'CHI'), ('LPL', 'LPL'), ('LQL', 'LQL'), ('YNL', 'YNL'), ('IEEAF', 'IEEAF'), ('FEQL', 'FEQL'), ('SVPQPK', 'SVPQPK'), ('EVPKA', 'EVPKA'), ('PLAQPA', 'PLAQPA'), ('LLNPT', 'LLNPT'), ('HLPLP', 'HLPLP'), ('VLPIPQ', 'VLPIPQ'), ('LWL', 'LWL'), ('PWK', 'PWK'), ('PWM', 'PWM'), ('RWD', 'RWD')]\n"
     ]
    }
   ],
   "source": [
    "peptide_sequence_list = []\n",
    "for seq in sequence_list:\n",
    "    format_seq = [seq,seq]\n",
    "    tuple_sequence = tuple(format_seq)\n",
    "    peptide_sequence_list.append(tuple_sequence)\n",
    "print(peptide_sequence_list)"
   ]
  },
  {
   "cell_type": "code",
   "execution_count": 14,
   "id": "798ddaa5",
   "metadata": {},
   "outputs": [
    {
     "name": "stdout",
     "output_type": "stream",
     "text": [
      "         0         1         2         3         4         5         6    \\\n",
      "0  -0.195990  0.108168  0.235250 -0.103984 -0.153602  0.010032  0.001333   \n",
      "1  -0.057576  0.135244  0.133541 -0.297181 -0.152541  0.004459 -0.096750   \n",
      "2  -0.139756 -0.056552  0.106659 -0.292172  0.038612 -0.109640  0.081992   \n",
      "3  -0.005653  0.109568  0.118261  0.086661 -0.168748  0.016080 -0.003229   \n",
      "4  -0.243100  0.113281  0.327936 -0.446812  0.063819 -0.017027  0.107023   \n",
      "5  -0.220327  0.106315  0.226592 -0.283321  0.097029 -0.129272 -0.056065   \n",
      "6  -0.160703  0.100113  0.191967 -0.264349  0.060579 -0.193532 -0.027650   \n",
      "7  -0.189151  0.048195  0.073360 -0.314162 -0.103760 -0.165018 -0.049925   \n",
      "8  -0.099521  0.121308  0.170791 -0.172098 -0.188271 -0.055555 -0.072078   \n",
      "9  -0.077919  0.104360  0.099158 -0.202731 -0.051281 -0.145980 -0.047873   \n",
      "10 -0.169235 -0.018591  0.183626 -0.112396 -0.187161 -0.048722  0.012766   \n",
      "11 -0.113216 -0.013956  0.241991 -0.037804 -0.244806 -0.013096 -0.023129   \n",
      "12 -0.135004 -0.106264  0.125656 -0.009577 -0.211528 -0.096761  0.080979   \n",
      "13 -0.216526  0.040590  0.056798 -0.107408  0.025893 -0.157420 -0.038488   \n",
      "14 -0.177868 -0.090165  0.067970 -0.226686  0.092957 -0.132961  0.035693   \n",
      "15 -0.166747  0.053831  0.159354 -0.154328 -0.145781 -0.143606 -0.047693   \n",
      "16 -0.179809  0.089928  0.067475 -0.255448 -0.063666 -0.085291 -0.187876   \n",
      "17 -0.177894 -0.008322  0.175082 -0.147644 -0.167724 -0.034331  0.088484   \n",
      "18 -0.163364  0.065379  0.173530 -0.271206 -0.153216  0.061785  0.114907   \n",
      "19 -0.196515  0.001590  0.121785 -0.200857 -0.131322 -0.034885  0.069661   \n",
      "\n",
      "         7         8         9    ...       630       631       632       633  \\\n",
      "0  -0.171406  0.022443  0.101368  ...  0.088894 -0.069661 -0.634291  0.229203   \n",
      "1  -0.111957 -0.041377  0.166226  ...  0.368778  0.065038 -0.390547  0.291356   \n",
      "2  -0.183743 -0.082893  0.051787  ...  0.220662 -0.058550 -0.508379  0.207573   \n",
      "3  -0.271604  0.023863  0.184420  ...  0.138586 -0.006864 -0.746777  0.115766   \n",
      "4  -0.119715 -0.165218  0.043571  ...  0.248607  0.153917 -0.049180  0.199946   \n",
      "5  -0.174895 -0.105314 -0.016067  ...  0.273774 -0.155253 -0.352657  0.225201   \n",
      "6  -0.242163 -0.173662  0.061006  ...  0.326048 -0.060386 -0.384048  0.116177   \n",
      "7  -0.187948 -0.159403  0.050922  ...  0.383913  0.001100 -0.338313  0.189098   \n",
      "8  -0.156479  0.104837  0.133761  ...  0.264527  0.040927 -0.601253  0.278524   \n",
      "9  -0.196903  0.019953  0.169749  ...  0.291633  0.028562 -0.613963  0.306738   \n",
      "10 -0.262681 -0.107902  0.404998  ...  0.239202  0.040253 -0.487790  0.050840   \n",
      "11 -0.194283  0.007881  0.244853  ...  0.209156 -0.096331 -0.481671  0.095756   \n",
      "12 -0.390927 -0.195984  0.211865  ...  0.075080 -0.076217 -0.496754  0.130325   \n",
      "13 -0.232511 -0.059363  0.129639  ...  0.214151 -0.001227 -0.371937  0.212587   \n",
      "14 -0.237384 -0.091050  0.114437  ...  0.170674 -0.048767 -0.399905  0.221954   \n",
      "15 -0.327341 -0.049931  0.204085  ...  0.192741  0.006619 -0.480983  0.202699   \n",
      "16 -0.130978 -0.074603 -0.178177  ...  0.262414  0.047515 -0.400195  0.204691   \n",
      "17 -0.169361 -0.115142  0.121555  ...  0.269626 -0.003546 -0.250130  0.230852   \n",
      "18 -0.149581 -0.093509 -0.013744  ...  0.207298  0.006667 -0.275261  0.192272   \n",
      "19 -0.224939  0.001517 -0.057643  ...  0.314301  0.000434 -0.212272  0.129677   \n",
      "\n",
      "         634       635       636       637       638       639  \n",
      "0   0.033039  0.206904 -0.023655  0.156034 -0.282357  0.009772  \n",
      "1   0.058805  0.053135  0.089828  0.033289 -0.264626 -0.189481  \n",
      "2   0.097304  0.083450 -0.068318  0.099336 -0.413325 -0.103300  \n",
      "3   0.006027  0.091576 -0.030397  0.118689 -0.226781 -0.022597  \n",
      "4   0.075975  0.173061 -0.074733  0.015160 -0.459844 -0.171256  \n",
      "5  -0.039771  0.135343 -0.096730  0.080075 -0.672812 -0.042916  \n",
      "6   0.007862  0.197221 -0.118954  0.128641 -0.627137 -0.123451  \n",
      "7   0.161393  0.142951 -0.051512  0.090004 -0.538319 -0.081735  \n",
      "8   0.062598  0.023894 -0.021958  0.170474 -0.222316 -0.034707  \n",
      "9   0.063466  0.094163  0.004484  0.227360 -0.325252 -0.115621  \n",
      "10  0.096532  0.039292 -0.109475  0.113691 -0.364174 -0.078592  \n",
      "11  0.130666  0.083964 -0.042409  0.171414 -0.317508 -0.093028  \n",
      "12  0.050578  0.197913 -0.111283  0.162002 -0.339398 -0.041893  \n",
      "13  0.034963  0.245262 -0.136019  0.324942 -0.458913 -0.034206  \n",
      "14  0.008022  0.130350 -0.135932  0.130452 -0.425685 -0.035391  \n",
      "15 -0.000089  0.081492 -0.029577  0.212067 -0.408803 -0.016917  \n",
      "16  0.048612  0.150939 -0.012111 -0.080374 -0.574408 -0.011252  \n",
      "17  0.204825 -0.063780 -0.119879 -0.108266 -0.578657 -0.187253  \n",
      "18  0.170274 -0.109721 -0.198752 -0.172571 -0.590322 -0.128735  \n",
      "19  0.151058 -0.088194 -0.101591 -0.127640 -0.380125 -0.216766  \n",
      "\n",
      "[20 rows x 640 columns]\n"
     ]
    }
   ],
   "source": [
    "#调试完毕，以此为准！\n",
    "import torch\n",
    "import esm\n",
    "import pandas as pd\n",
    "\n",
    "#load ESM-2 model\n",
    "model, alphabet = esm.pretrained.esm2_t30_150M_UR50D()\n",
    "batch_converter = alphabet.get_batch_converter()\n",
    "model.eval()\n",
    "    \n",
    "#load data\n",
    "data = peptide_sequence_list\n",
    "batch_labels, batch_strs, batch_tokens = batch_converter(data)\n",
    "batch_lens = (batch_tokens != alphabet.padding_idx).sum(1)\n",
    "    \n",
    "# Extract per-residue representations (on CPU)\n",
    "with torch.no_grad():\n",
    "    results = model(batch_tokens, repr_layers=[30], return_contacts=True)\n",
    "token_representations = results[\"representations\"][30]\n",
    "    \n",
    "# Generate per-sequence representations via averaging\n",
    "sequence_representations = []\n",
    "for i, token_len in enumerate(batch_lens):\n",
    "    each_seq_rep = token_representations[i, 1:token_len - 1].mean(0).tolist()  \n",
    "    sequence_representations.append(each_seq_rep)\n",
    "\n",
    "embedding_results = pd.DataFrame(sequence_representations)\n",
    "print(embedding_results)\n",
    "embedding_results.to_csv('X_test_640.csv')"
   ]
  },
  {
   "cell_type": "code",
   "execution_count": null,
   "id": "f27b0049",
   "metadata": {},
   "outputs": [],
   "source": []
  },
  {
   "cell_type": "code",
   "execution_count": null,
   "id": "f45399df",
   "metadata": {},
   "outputs": [],
   "source": []
  },
  {
   "cell_type": "code",
   "execution_count": null,
   "id": "e81e5c40",
   "metadata": {},
   "outputs": [],
   "source": []
  },
  {
   "cell_type": "code",
   "execution_count": null,
   "id": "faf91b3d",
   "metadata": {},
   "outputs": [],
   "source": []
  },
  {
   "cell_type": "code",
   "execution_count": null,
   "id": "da29e1c0",
   "metadata": {},
   "outputs": [],
   "source": []
  },
  {
   "cell_type": "code",
   "execution_count": null,
   "id": "53d148ac",
   "metadata": {},
   "outputs": [],
   "source": []
  },
  {
   "cell_type": "code",
   "execution_count": null,
   "id": "bec8dfd3",
   "metadata": {},
   "outputs": [],
   "source": []
  },
  {
   "cell_type": "code",
   "execution_count": null,
   "id": "e5c32101",
   "metadata": {},
   "outputs": [],
   "source": []
  },
  {
   "cell_type": "code",
   "execution_count": null,
   "id": "8055b231",
   "metadata": {},
   "outputs": [],
   "source": []
  }
 ],
 "metadata": {
  "kernelspec": {
   "display_name": "sdsd_torch",
   "language": "python",
   "name": "sdsd_torch"
  },
  "language_info": {
   "codemirror_mode": {
    "name": "ipython",
    "version": 3
   },
   "file_extension": ".py",
   "mimetype": "text/x-python",
   "name": "python",
   "nbconvert_exporter": "python",
   "pygments_lexer": "ipython3",
   "version": "3.9.16"
  }
 },
 "nbformat": 4,
 "nbformat_minor": 5
}
