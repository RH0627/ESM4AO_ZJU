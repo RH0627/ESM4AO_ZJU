{
 "cells": [
  {
   "cell_type": "code",
   "execution_count": 1,
   "id": "5316fe7d",
   "metadata": {},
   "outputs": [],
   "source": [
    "import os\n",
    "os.chdir('C:/Users/RH/A_whole_try_prog/ESM2560_clean/data')"
   ]
  },
  {
   "cell_type": "code",
   "execution_count": 2,
   "id": "f60ae47e",
   "metadata": {},
   "outputs": [
    {
     "name": "stdout",
     "output_type": "stream",
     "text": [
      "1.5.3\n",
      "1.22.0\n",
      "2.0.0\n",
      "2.0.0\n"
     ]
    }
   ],
   "source": [
    "import pandas as pd\n",
    "import numpy as np\n",
    "import esm\n",
    "import torch\n",
    "\n",
    "print(pd.__version__)\n",
    "print(np.__version__)\n",
    "print(esm.__version__)\n",
    "print(torch.__version__)"
   ]
  },
  {
   "cell_type": "code",
   "execution_count": 3,
   "id": "51def8ca",
   "metadata": {},
   "outputs": [],
   "source": [
    "import numpy as np\n",
    "import pandas as pd"
   ]
  },
  {
   "cell_type": "code",
   "execution_count": 4,
   "id": "ffcfda71",
   "metadata": {},
   "outputs": [],
   "source": [
    "#training dataset loading\n",
    "#打开指定路径的excel文件\n",
    "excel_path = r'C:\\Users\\RH\\A_whole_try_prog\\Sequence_with_random_6v3.xlsx'\n",
    "dataset = pd.read_excel(excel_path, na_filter=False)\n",
    "sequence_list = dataset['Sequence']"
   ]
  },
  {
   "cell_type": "code",
   "execution_count": 5,
   "id": "bfe38912",
   "metadata": {},
   "outputs": [
    {
     "name": "stdout",
     "output_type": "stream",
     "text": [
      "0            VKV\n",
      "1           PKAV\n",
      "2            IKL\n",
      "3          VPSGK\n",
      "4            EAK\n",
      "          ...   \n",
      "1079     DSWLNLG\n",
      "1080          SY\n",
      "1081          CT\n",
      "1082    GIDNEPLT\n",
      "1083        AQSD\n",
      "Name: Sequence, Length: 1084, dtype: object\n"
     ]
    }
   ],
   "source": [
    "print(sequence_list)"
   ]
  },
  {
   "cell_type": "raw",
   "id": "ab3ca89a",
   "metadata": {},
   "source": [
    "#loading the y_label dataset for model development\n",
    "import numpy as np\n",
    "\n",
    "# loading the y dataset for model development\n",
    "y_group = dataset['group']\n",
    "# change the label\n",
    "y = np.array([])  # Initialize an empty NumPy array\n",
    "\n",
    "for each in y_group:\n",
    "    if each == 'A':\n",
    "        y = np.append(y, 0)\n",
    "    elif each == 'B':\n",
    "        y = np.append(y, 1)\n",
    "    elif each == 'C':\n",
    "        y = np.append(y, 2)\n",
    "    elif each == 'D':\n",
    "        y = np.append(y, 3)\n",
    "\n",
    "y = np.array(y)  # transformed as np.array for CNN model"
   ]
  },
  {
   "cell_type": "code",
   "execution_count": 6,
   "id": "60f75883",
   "metadata": {},
   "outputs": [
    {
     "name": "stdout",
     "output_type": "stream",
     "text": [
      "[('VKV', 'VKV'), ('PKAV', 'PKAV'), ('IKL', 'IKL'), ('VPSGK', 'VPSGK'), ('EAK', 'EAK'), ('FVAGK', 'FVAGK'), ('KAI', 'KAI'), ('KVI', 'KVI'), ('KD', 'KD'), ('LQPGQGQQ', 'LQPGQGQQ'), ('YFYPEL', 'YFYPEL'), ('FYPEL', 'FYPEL'), ('YPEL', 'YPEL'), ('PEL', 'PEL'), ('EL', 'EL'), ('LMSYMWSTSM', 'LMSYMWSTSM'), ('LELHKLRSSHWFSRR', 'LELHKLRSSHWFSRR'), ('PSHDAHPE', 'PSHDAHPE'), ('SHDAHPE', 'SHDAHPE'), ('VDHDHPE', 'VDHDHPE'), ('PKAVHE', 'PKAVHE'), ('PAGY', 'PAGY'), ('PHHADS', 'PHHADS'), ('VDYP', 'VDYP'), ('LQPGQGQQG', 'LQPGQGQQG'), ('AQIPQQ', 'AQIPQQ'), ('YAEERYPIL', 'YAEERYPIL'), ('WYSLAMAASDI', 'WYSLAMAASDI'), ('VAPFPGVFGK', 'VAPFPGVFGK'), ('HLPLPL', 'HLPLPL'), ('PPQ', 'PPQ'), ('GPVRGPFPII', 'GPVRGPFPII'), ('NQE', 'NQE'), ('AKYIPIQYVLSRYPSY', 'AKYIPIQYVLSRYPSY'), ('IPIQYVL', 'IPIQYVL'), ('PPK', 'PPK'), ('FDSGPAGVL', 'FDSGPAGVL'), ('NGPLQAGQPGER', 'NGPLQAGQPGER'), ('HGPLGPL', 'HGPLGPL'), ('NADFGLNGLEGLA', 'NADFGLNGLEGLA'), ('NGLEGLK', 'NGLEGLK'), ('LGLNGDDVN', 'LGLNGDDVN'), ('VKAGFAWTANQQLS', 'VKAGFAWTANQQLS'), ('LVGDEQAVPAVCVP', 'LVGDEQAVPAVCVP'), ('ESTVPERTHPACPDFN', 'ESTVPERTHPACPDFN'), ('PSKYEPFV', 'PSKYEPFV'), ('LKQELEDLLEKQE', 'LKQELEDLLEKQE'), ('VECYG', 'VECYG'), ('CYGPNR', 'CYGPNR'), ('PNRPQF', 'PNRPQF'), ('PLFQNKLAHAK', 'PLFQNKLAHAK'), ('AEAQKQLR', 'AEAQKQLR'), ('LEELEEELEGCE', 'LEELEEELEGCE'), ('YA', 'YA'), ('LMCH', 'LMCH'), ('LPTSEAAKY', 'LPTSEAAKY'), ('PMDYMVT', 'PMDYMVT'), ('FRDEHKK', 'FRDEHKK'), ('KHNRGDEF', 'KHNRGDEF'), ('YLYP', 'YLYP'), ('LYPY', 'LYPY'), ('LPYY', 'LPYY'), ('PYY', 'PYY'), ('LHA', 'LHA'), ('LHD', 'LHD'), ('LHE', 'LHE'), ('LHF', 'LHF'), ('LHG', 'LHG'), ('LHI', 'LHI'), ('LHK', 'LHK'), ('LHL', 'LHL'), ('LHM', 'LHM'), ('LHN', 'LHN'), ('LHQ', 'LHQ'), ('LHR', 'LHR'), ('LHS', 'LHS'), ('LHT', 'LHT'), ('LHV', 'LHV'), ('LHW', 'LHW'), ('LHY', 'LHY'), ('LWA', 'LWA'), ('LWD', 'LWD'), ('LWE', 'LWE'), ('LWF', 'LWF'), ('LWG', 'LWG'), ('LWH', 'LWH'), ('LWI', 'LWI'), ('LWK', 'LWK'), ('LWM', 'LWM'), ('LWN', 'LWN'), ('LWQ', 'LWQ'), ('LWR', 'LWR'), ('LWS', 'LWS'), ('LWT', 'LWT'), ('LWV', 'LWV'), ('LWW', 'LWW'), ('LWY', 'LWY'), ('PHA', 'PHA'), ('PHD', 'PHD'), ('PHE', 'PHE'), ('PHF', 'PHF'), ('PHG', 'PHG'), ('PHI', 'PHI'), ('PHK', 'PHK'), ('PHL', 'PHL'), ('PHM', 'PHM'), ('PHN', 'PHN'), ('PHQ', 'PHQ'), ('PHR', 'PHR'), ('PHS', 'PHS'), ('PHT', 'PHT'), ('PHV', 'PHV'), ('PHW', 'PHW'), ('PHY', 'PHY'), ('PWA', 'PWA'), ('PWD', 'PWD'), ('PWE', 'PWE'), ('PWF', 'PWF'), ('PWG', 'PWG'), ('PWH', 'PWH'), ('PWI', 'PWI'), ('PWL', 'PWL'), ('PWN', 'PWN'), ('PWQ', 'PWQ'), ('PWR', 'PWR'), ('PWS', 'PWS'), ('PWT', 'PWT'), ('PWV', 'PWV'), ('PWW', 'PWW'), ('PWY', 'PWY'), ('RHA', 'RHA'), ('RHD', 'RHD'), ('RHE', 'RHE'), ('RHF', 'RHF'), ('RHG', 'RHG'), ('RHH', 'RHH'), ('RHI', 'RHI'), ('RHK', 'RHK'), ('RHL', 'RHL'), ('RHM', 'RHM'), ('RHN', 'RHN'), ('RHQ', 'RHQ'), ('RNR', 'RNR'), ('RHS', 'RHS'), ('RHT', 'RHT'), ('RHV', 'RHV'), ('RHW', 'RHW'), ('RHY', 'RHY'), ('RWA', 'RWA'), ('RWE', 'RWE'), ('RWG', 'RWG'), ('RWH', 'RWH'), ('RWI', 'RWI'), ('RWL', 'RWL'), ('RWN', 'RWN'), ('RWR', 'RWR'), ('RWT', 'RWT'), ('RWW', 'RWW'), ('RWQ', 'RWQ'), ('RWY', 'RWY'), ('HEH', 'HEH'), ('HDH', 'HDH'), ('AHH', 'AHH'), ('IHH', 'IHH'), ('FHH', 'FHH'), ('WHH', 'WHH'), ('YHH', 'YHH'), ('HYH', 'HYH'), ('HFH', 'HFH'), ('HWH', 'HWH'), ('HHF', 'HHF'), ('HHW', 'HHW'), ('HHY', 'HHY'), ('GHH', 'GHH'), ('NHH', 'NHH'), ('QHH', 'QHH'), ('MHH', 'MHH'), ('SHH', 'SHH'), ('THH', 'THH'), ('DYY', 'DYY'), ('EYY', 'EYY'), ('YDY', 'YDY'), ('YEY', 'YEY'), ('YYD', 'YYD'), ('YYE', 'YYE'), ('HYY', 'HYY'), ('KYY', 'KYY'), ('RYY', 'RYY'), ('YHY', 'YHY'), ('YKY', 'YKY'), ('YRY', 'YRY'), ('YYR', 'YYR'), ('YYH', 'YYH'), ('YYK', 'YYK'), ('AYY', 'AYY'), ('IYY', 'IYY'), ('LYY', 'LYY'), ('VYY', 'VYY'), ('YAY', 'YAY'), ('YIY', 'YIY'), ('YLY', 'YLY'), ('YVY', 'YVY'), ('YYA', 'YYA'), ('YYI', 'YYI'), ('YYL', 'YYL'), ('YYV', 'YYV'), ('WYY', 'WYY'), ('YYY', 'YYY'), ('YFY', 'YFY'), ('YWY', 'YWY'), ('YYF', 'YYF'), ('YYW', 'YYW'), ('GYY', 'GYY'), ('NYY', 'NYY'), ('QYY', 'QYY'), ('YGY', 'YGY'), ('YNY', 'YNY'), ('YQY', 'YQY'), ('YYG', 'YYG'), ('YYN', 'YYN'), ('YYQ', 'YYQ'), ('MYY', 'MYY'), ('YMY', 'YMY'), ('YYM', 'YYM'), ('SYY', 'SYY'), ('TYY', 'TYY'), ('YSY', 'YSY'), ('YTY', 'YTY'), ('YYS', 'YYS'), ('YYT', 'YYT'), ('YCY', 'YCY'), ('YPFPG', 'YPFPG'), ('RPPGFSPFR', 'RPPGFSPFR'), ('NRVYIHPFHLLVYS', 'NRVYIHPFHLLVYS'), ('VQYPVEHPNKFLKFGMTPSKGVLFY', 'VQYPVEHPNKFLKFGMTPSKGVLFY'), ('RPDFDLEPPY', 'RPDFDLEPPY'), ('LPHSGY', 'LPHSGY'), ('PR', 'PR'), ('PVSHDHAPEY', 'PVSHDHAPEY'), ('PSDHDHE', 'PSDHDHE'), ('VHDY', 'VHDY'), ('LARL', 'LARL'), ('GGE', 'GGE'), ('GAH', 'GAH'), ('GAWA', 'GAWA'), ('PHYL', 'PHYL'), ('GALAAH', 'GALAAH'), ('DPALATEPDPMPF', 'DPALATEPDPMPF'), ('ACFL', 'ACFL'), ('FLNDFLHV', 'FLNDFLHV'), ('WEGPK', 'WEGPK'), ('GPP', 'GPP'), ('GVPLT', 'GVPLT'), ('GSGGL', 'GSGGL'), ('GPGGFI', 'GPGGFI'), ('FIGP', 'FIGP'), ('AMTGLDA', 'AMTGLDA'), ('NHRYDR', 'NHRYDR'), ('GNRGFACRHA', 'GNRGFACRHA'), ('VKEAMPK', 'VKEAMPK'), ('VLPVPQK', 'VLPVPQK'), ('MHIRL', 'MHIRL'), ('YVEEL', 'YVEEL'), ('YGYTGA', 'YGYTGA'), ('ISELGW', 'ISELGW'), ('YVAQGEGVVA', 'YVAQGEGVVA'), ('WSRRGEREEEDERRR', 'WSRRGEREEEDERRR'), ('HGGEGGRPYHLGEES', 'HGGEGGRPYHLGEES'), ('VAVDKHDYEPLGHSDIGVY', 'VAVDKHDYEPLGHSDIGVY'), ('FFAPGRNPTSFS', 'FFAPGRNPTSFS'), ('EEYFPVGGDRPESF', 'EEYFPVGGDRPESF'), ('WEIKPSSLTGKSPYFSNNHGKL', 'WEIKPSSLTGKSPYFSNNHGKL'), ('YLAGMN', 'YLAGMN'), ('IAPNYNTRATKL', 'IAPNYNTRATKL'), ('IIENGEKWS', 'IIENGEKWS'), ('LVDTGRGPIMY', 'LVDTGRGPIMY'), ('EEEQVGQGYETIRARL', 'EEEQVGQGYETIRARL'), ('FVAPAGTINY', 'FVAPAGTINY'), ('YEADARSFHDLAEHDIRV', 'YEADARSFHDLAEHDIRV'), ('LRGIKNYRVAVL', 'LRGIKNYRVAVL'), ('AAVGGYRVAVL', 'AAVGGYRVAVL'), ('NHAV', 'NHAV'), ('HVRETALV', 'HVRETALV'), ('SVYT', 'SVYT'), ('WYT', 'WYT'), ('WSY', 'WSY'), ('LNGDVW', 'LNGDVW'), ('TY', 'TY'), ('VY', 'VY'), ('NYKQM', 'NYKQM'), ('YSTA', 'YSTA'), ('YFE', 'YFE'), ('SWN', 'SWN'), ('HVCYMF', 'HVCYMF'), ('MWL', 'MWL'), ('HDHPVC', 'HDHPVC'), ('HEKVC', 'HEKVC'), ('QWPAQ', 'QWPAQ'), ('GFRGTIGLVG', 'GFRGTIGLVG'), ('GPAGPAG', 'GPAGPAG'), ('GFPSG', 'GFPSG'), ('YPPAK', 'YPPAK'), ('TCSP', 'TCSP'), ('TGGGNV', 'TGGGNV'), ('ESTTVPERTHPACPDFN', 'ESTTVPERTHPACPDFN'), ('LLGPGLTNHA', 'LLGPGLTNHA'), ('DLGLGLPGAH', 'DLGLGLPGAH'), ('FLQEFLHV', 'FLQEFLHV'), ('KTFCGRH', 'KTFCGRH'), ('EWPAQ', 'EWPAQ'), ('FLHRP', 'FLHRP'), ('LMGQW', 'LMGQW'), ('LDK', 'LDK'), ('PVMGA', 'PVMGA'), ('QHGV', 'QHGV'), ('VCSV', 'VCSV'), ('CAAP', 'CAAP'), ('SVEIQALCDM', 'SVEIQALCDM'), ('MQFHT', 'MQFHT'), ('PHCKRM', 'PHCKRM'), ('VKEAMAPK', 'VKEAMAPK'), ('ARHPHPHLSFM', 'ARHPHPHLSFM'), ('IKK', 'IKK'), ('FKK', 'FKK'), ('FIKK', 'FIKK'), ('AY', 'AY'), ('ADF', 'ADF'), ('SDF', 'SDF'), ('FGHPY', 'FGHPY'), ('TTYY', 'TTYY'), ('LY', 'LY'), ('IY', 'IY'), ('YQEP', 'YQEP'), ('YQEPVLGP', 'YQEPVLGP'), ('SALAM', 'SALAM'), ('YQIGL', 'YQIGL'), ('YRGGLEPINF', 'YRGGLEPINF'), ('FRADHPFL', 'FRADHPFL'), ('RADHPFL', 'RADHPFL'), ('YPI', 'YPI'), ('YPIL', 'YPIL'), ('RADHPF', 'RADHPF'), ('RADHP', 'RADHP'), ('ADHP', 'ADHP'), ('QVVPYPQ', 'QVVPYPQ'), ('HQIYPV', 'HQIYPV'), ('PYPQ', 'PYPQ'), ('WSVPQPK', 'WSVPQPK'), ('IYPF', 'IYPF'), ('WY', 'WY'), ('WYS', 'WYS'), ('WYSL', 'WYSL'), ('WYSLA', 'WYSLA'), ('WYSLAM', 'WYSLAM'), ('WYSLAMA', 'WYSLAMA'), ('MY', 'MY'), ('LQGM', 'LQGM'), ('QGAR', 'QGAR'), ('FPLEMMPF', 'FPLEMMPF'), ('LNLPTAVYMVT', 'LNLPTAVYMVT'), ('YGGFL', 'YGGFL'), ('YGGFM', 'YGGFM'), ('DRVYIHPFHL', 'DRVYIHPFHL'), ('DRVYIHPF', 'DRVYIHPF'), ('LEQQVDDLEGSLEQEKK', 'LEQQVDDLEGSLEQEKK'), ('AIRQGDVF', 'AIRQGDVF'), ('VLEANPRSF', 'VLEANPRSF'), ('YFPVGGDRPESF', 'YFPVGGDRPESF'), ('IQY', 'IQY'), ('YVL', 'YVL'), ('FALPQYLK', 'FALPQYLK'), ('PYVRYL', 'PYVRYL'), ('TIIPLPV', 'TIIPLPV'), ('WPL', 'WPL'), ('VPW', 'VPW'), ('VFPW', 'VFPW'), ('PW', 'PW'), ('HNPI', 'HNPI'), ('QYDQGV', 'QYDQGV'), ('YEDCTDCGN', 'YEDCTDCGN'), ('AADNANELFPPN', 'AADNANELFPPN'), ('AMRLTYNRPCIYAT', 'AMRLTYNRPCIYAT'), ('AMRLTGNRPGLYAT', 'AMRLTGNRPGLYAT'), ('AMRLTYNRPCLGAT', 'AMRLTYNRPCLGAT'), ('SIITMTKEAKLPQLWKQIACRLYNTC', 'SIITMTKEAKLPQLWKQIACRLYNTC'), ('FRSGILKLASKIPSVLCAVLKNC', 'FRSGILKLASKIPSVLCAVLKNC'), ('AKAWGIPPHVIPQIVPVRIRPLCGNV', 'AKAWGIPPHVIPQIVPVRIRPLCGNV'), ('FIPGLRRLFATVVPTVVCAINKLPPG', 'FIPGLRRLFATVVPTVVCAINKLPPG'), ('DDPDKGMLKWKNDFFQEF', 'DDPDKGMLKWKNDFFQEF'), ('GFFDRIKALTKNVTLELLNTITCKLPVTPP', 'GFFDRIKALTKNVTLELLNTITCKLPVTPP'), ('CVHWMTNTARTACIAP', 'CVHWMTNTARTACIAP'), ('AMRLTYNKPCLYGT', 'AMRLTYNKPCLYGT'), ('IRW', 'IRW'), ('RW', 'RW'), ('IANNEADAISLDGGQVFEAG', 'IANNEADAISLDGGQVFEAG'), ('PIAAEVYEHTEGSTTSY', 'PIAAEVYEHTEGSTTSY'), ('AGWNIPIGT', 'AGWNIPIGT'), ('AGWNIP', 'AGWNIP'), ('AGWNI', 'AGWNI'), ('WNIP', 'WNIP'), ('AIEWEGIESGSVEQA', 'AIEWEGIESGSVEQA'), ('LGFEY', 'LGFEY'), ('LGFEYY', 'LGFEYY'), ('VIPMGL', 'VIPMGL'), ('GWNIP', 'GWNIP'), ('GWNI', 'GWNI'), ('VPYPQ', 'VPYPQ'), ('VPNSYP', 'VPNSYP'), ('NPYVPR', 'NPYVPR'), ('WISELG', 'WISELG'), ('WISELGW', 'WISELGW'), ('ISELWG', 'ISELWG'), ('ISELGF', 'ISELGF'), ('ISELGY', 'ISELGY'), ('GPLGLLGFLGPLGLS', 'GPLGLLGFLGPLGLS'), ('QLGNLGV', 'QLGNLGV'), ('SVMPVVA', 'SVMPVVA'), ('FLKPLFNAALKLLP', 'FLKPLFNAALKLLP'), ('VKP', 'VKP'), ('VKCFR', 'VKCFR'), ('PYFNK', 'PYFNK'), ('VLYEE', 'VLYEE'), ('YLMSR', 'YLMSR'), ('MILMR', 'MILMR'), ('HMPVTK', 'HMPVTK'), ('TERGY', 'TERGY'), ('TEFTK', 'TEFTK'), ('TDY', 'TDY'), ('NHK', 'NHK'), ('LVSK', 'LVSK'), ('WHNVSGSP', 'WHNVSGSP'), ('FDEQE', 'FDEQE'), ('WDDMEK', 'WDDMEK'), ('MEMK', 'MEMK'), ('LDY', 'LDY'), ('YWVTSGPK', 'YWVTSGPK'), ('LYEGY', 'LYEGY'), ('VAMVPPFET', 'VAMVPPFET'), ('YSEMPPGK', 'YSEMPPGK'), ('FHNMEK', 'FHNMEK'), ('TW', 'TW'), ('AW', 'AW'), ('VW', 'VW'), ('LW', 'LW'), ('VPKNYFHDIV', 'VPKNYFHDIV'), ('FVNQPYLLYSVHMK', 'FVNQPYLLYSVHMK'), ('LVMFLDNQHRVIRH', 'LVMFLDNQHRVIRH'), ('YAKPA', 'YAKPA'), ('GTQY', 'GTQY'), ('ARHPHP', 'ARHPHP'), ('RHPHP', 'RHPHP'), ('RYPS', 'RYPS'), ('SRYPS', 'SRYPS'), ('AYPS', 'AYPS'), ('YAKP', 'YAKP'), ('RYQ', 'RYQ'), ('VLSRYPS', 'VLSRYPS'), ('TIASGEP', 'TIASGEP'), ('YQLD', 'YQLD'), ('GYLEQ', 'GYLEQ'), ('RDMPIQ', 'RDMPIQ'), ('YPELF', 'YPELF'), ('RLKKY', 'RLKKY'), ('YLKT', 'YLKT'), ('TVYQ', 'TVYQ'), ('LLR', 'LLR'), ('YGLN', 'YGLN'), ('YQKFP', 'YQKFP'), ('YQL', 'YQL'), ('YIPIQY', 'YIPIQY'), ('FYQL', 'FYQL'), ('YVGD', 'YVGD'), ('LGNTDYAVH', 'LGNTDYAVH'), ('DHG', 'DHG'), ('VGDI', 'VGDI'), ('DHTKE', 'DHTKE'), ('FFGFN', 'FFGFN'), ('MPDAHL', 'MPDAHL'), ('ALEPDHR', 'ALEPDHR'), ('TETWNPNHPEL', 'TETWNPNHPEL'), ('FVPH', 'FVPH'), ('SAEHGSLH', 'SAEHGSLH'), ('LSGYGP', 'LSGYGP'), ('PYSFK', 'PYSFK'), ('GFGPEL', 'GFGPEL'), ('VGGRP', 'VGGRP'), ('VVGGDGDV', 'VVGGDGDV'), ('VPVTST', 'VPVTST'), ('LTTLDSE', 'LTTLDSE'), ('STMMEERRMKVY', 'STMMEERRMKVY'), ('DVFRELRVQ', 'DVFRELRVQ'), ('EERYP', 'EERYP'), ('AEERYP', 'AEERYP'), ('DEDTQAMP', 'DEDTQAMP'), ('PVDENDEG', 'PVDENDEG'), ('YLGAK', 'YLGAK'), ('GGLEPINFN', 'GGLEPINFN'), ('GGIF', 'GGIF'), ('GVQEGAGHYALL', 'GVQEGAGHYALL'), ('WPP', 'WPP'), ('YYIVS', 'YYIVS'), ('TYQTF', 'TYQTF'), ('SGQYFL', 'SGQYFL'), ('YYDPL', 'YYDPL'), ('WDR', 'WDR'), ('GIISHR', 'GIISHR'), ('ELLI', 'ELLI'), ('KFPE', 'KFPE'), ('LPF', 'LPF'), ('LLPF', 'LLPF'), ('FLPF', 'FLPF'), ('LANAK', 'LANAK'), ('PSLVGRPPVGKLTL', 'PSLVGRPPVGKLTL'), ('VKVLLEHPVL', 'VKVLLEHPVL'), ('SNAAC', 'SNAAC'), ('AEEEYPDL', 'AEEEYPDL'), ('WG', 'WG'), ('QYP', 'QYP'), ('HYVPV', 'HYVPV'), ('MK', 'MK'), ('MM', 'MM'), ('AH', 'AH'), ('VAWRNRCKGTD', 'VAWRNRCKGTD'), ('IRGCRL', 'IRGCRL'), ('WIRGCRL', 'WIRGCRL'), ('AWIRGCRL', 'AWIRGCRL'), ('WRNRCKGTD', 'WRNRCKGTD'), ('IQW', 'IQW'), ('LTC', 'LTC'), ('GTW', 'GTW'), ('YLL', 'YLL'), ('LFC', 'LFC'), ('CME', 'CME'), ('QKW', 'QKW'), ('WEN', 'WEN'), ('LAC', 'LAC'), ('ACQ', 'ACQ'), ('CQC', 'CQC'), ('QCL', 'QCL'), ('GEC', 'GEC'), ('ECA', 'ECA'), ('CAQ', 'CAQ'), ('CLV', 'CLV'), ('NEN', 'NEN'), ('LPM', 'LPM'), ('MHI', 'MHI'), ('DYK', 'DYK'), ('KKY', 'KKY'), ('KYL', 'KYL'), ('EQC', 'EQC'), ('QCH', 'QCH'), ('CHI', 'CHI'), ('CSQAPLA', 'CSQAPLA'), ('WYGPD', 'WYGPD'), ('KLSDW', 'KLSDW'), ('KGLWE', 'KGLWE'), ('DLEE', 'DLEE'), ('TEVWDSNEQ', 'TEVWDSNEQ'), ('IYIEQGNGITGM', 'IYIEQGNGITGM'), ('YLAGKPQQEH', 'YLAGKPQQEH'), ('AWEEREQGSR', 'AWEEREQGSR'), ('ADGF', 'ADGF'), ('AGGF', 'AGGF'), ('AWDPE', 'AWDPE'), ('DWDPK', 'DWDPK'), ('ETTL', 'ETTL'), ('SGAF', 'SGAF'), ('FC', 'FC'), ('VKRRGQDCIHGFCSD', 'VKRRGQDCIHGFCSD'), ('GQFNDKRWIPFG', 'GQFNDKRWIPFG'), ('APIRMWYMYRKLTDMEPKPVA', 'APIRMWYMYRKLTDMEPKPVA'), ('VLVPK', 'VLVPK'), ('KDVPP', 'KDVPP'), ('GQVPP', 'GQVPP'), ('PKLPPVKK', 'PKLPPVKK'), ('DGVVYY', 'DGVVYY'), ('IVEYF', 'IVEYF'), ('GFYPPP', 'GFYPPP'), ('DVPPYM', 'DVPPYM'), ('PGVPWP', 'PGVPWP'), ('RYLGY', 'RYLGY'), ('RY', 'RY'), ('RYL', 'RYL'), ('RYLG', 'RYLG'), ('YLG', 'YLG'), ('YLGY', 'YLGY'), ('LGY', 'LGY'), ('AYFYPEL', 'AYFYPEL'), ('AYFYPE', 'AYFYPE'), ('YQKFPQY', 'YQKFPQY'), ('YQK', 'YQK'), ('FPQY', 'FPQY'), ('VAGTWY', 'VAGTWY'), ('VYPFPGPIPN', 'VYPFPGPIPN'), ('YQEPVLGPVRGPFPIIV', 'YQEPVLGPVRGPFPIIV'), ('VPKVK', 'VPKVK'), ('SCH', 'SCH'), ('DHHQ', 'DHHQ'), ('DHHQVYSPGEQ', 'DHHQVYSPGEQ'), ('DAHK', 'DAHK'), ('DHHK', 'DHHK'), ('LPWRPATNVF', 'LPWRPATNVF'), ('AWFS', 'AWFS'), ('YGIKVGYAIP', 'YGIKVGYAIP'), ('YLLLK', 'YLLLK'), ('WAFS', 'WAFS'), ('FFRSKLLSDGAAAKGALLPQYW', 'FFRSKLLSDGAAAKGALLPQYW'), ('DSGVT', 'DSGVT'), ('IEAEGE', 'IEAEGE'), ('DAQEKLE', 'DAQEKLE'), ('EELDNALN', 'EELDNALN'), ('VPSIDDQEELM', 'VPSIDDQEELM'), ('HFGDPFH', 'HFGDPFH'), ('PSYV', 'PSYV'), ('HPLH', 'HPLH'), ('HHLP', 'HHLP'), ('HL', 'HL'), ('HLPH', 'HLPH'), ('LLPH', 'LLPH'), ('PLHH', 'PLHH'), ('HPHL', 'HPHL'), ('HH', 'HH'), ('HPH', 'HPH'), ('LLHH', 'LLHH'), ('HHPLL', 'HHPLL'), ('HLHP', 'HLHP'), ('LPHH', 'LPHH'), ('HHPL', 'HHPL'), ('LHPH', 'LHPH'), ('HHP', 'HHP'), ('LH', 'LH'), ('LLPHH', 'LLPHH'), ('HLH', 'HLH'), ('LLPHHH', 'LLPHHH'), ('LHH', 'LHH'), ('PHH', 'PHH'), ('FYY', 'FYY'), ('AVPYPQR', 'AVPYPQR'), ('KVLPVPQK', 'KVLPVPQK'), ('IPAGM', 'IPAGM'), ('LPAGV', 'LPAGV'), ('EFLQ', 'EFLQ'), ('IPAGV', 'IPAGV'), ('EFQI', 'EFQI'), ('FEQI', 'FEQI'), ('LALPA', 'LALPA'), ('EFQL', 'EFQL'), ('LEEAF', 'LEEAF'), ('PSIPA', 'PSIPA'), ('PSLPA', 'PSLPA'), ('WVYY', 'WVYY'), ('LPL', 'LPL'), ('LQL', 'LQL'), ('YNL', 'YNL'), ('IEEAF', 'IEEAF'), ('FEQL', 'FEQL'), ('VSYT', 'VSYT'), ('YNI', 'YNI'), ('EFIQ', 'EFIQ'), ('VECYGPNRPQF', 'VECYGPNRPQF'), ('DW', 'DW'), ('RASDPLLSV', 'RASDPLLSV'), ('RNDDLNYIQ', 'RNDDLNYIQ'), ('LAPSLPGKPKPD', 'LAPSLPGKPKPD'), ('AGTTCLFTPLALPYDYSH', 'AGTTCLFTPLALPYDYSH'), ('RPNYTDA', 'RPNYTDA'), ('TSQLLSDQ', 'TSQLLSDQ'), ('TRTGDPFF', 'TRTGDPFF'), ('NFHPQ', 'NFHPQ'), ('GIFE', 'GIFE'), ('MPACGSS', 'MPACGSS'), ('MTEEY', 'MTEEY'), ('LSGNK', 'LSGNK'), ('GEGSGA', 'GEGSGA'), ('GLTSK', 'GLTSK'), ('SDRDLLGPNNQYLPK', 'SDRDLLGPNNQYLPK'), ('RCMAFLLSDGAAAAQQLLPQYW', 'RCMAFLLSDGAAAAQQLLPQYW'), ('WNLNAN', 'WNLNAN'), ('SLDFPALW', 'SLDFPALW'), ('FESFFL', 'FESFFL'), ('FQTLF', 'FQTLF'), ('SYLQGF', 'SYLQGF'), ('LFF', 'LFF'), ('VLLPDEVSGL', 'VLLPDEVSGL'), ('RDILNQ', 'RDILNQ'), ('ESIINF', 'ESIINF'), ('VALDGGL', 'VALDGGL'), ('DLIN', 'DLIN'), ('PWK', 'PWK'), ('PWM', 'PWM'), ('RWD', 'RWD'), ('RWF', 'RWF'), ('RWK', 'RWK'), ('RWM', 'RWM'), ('RWS', 'RWS'), ('RWV', 'RWV'), ('FSDKIAK', 'FSDKIAK'), ('EIPT', 'EIPT'), ('VQVTSTAV', 'VQVTSTAV'), ('RINKK', 'RINKK'), ('RINK', 'RINK'), ('LKKISQ', 'LKKISQ'), ('PLAPQA', 'PLAPQA'), ('VPVQA', 'VPVQA'), ('IR', 'IR'), ('LKP', 'LKP'), ('LK', 'LK'), ('KP', 'KP'), ('LSKAQSDFG', 'LSKAQSDFG'), ('LVEKGDVAFI', 'LVEKGDVAFI'), ('ALSAF', 'ALSAF'), ('SVDSQTAF', 'SVDSQTAF'), ('LPDEVSG', 'LPDEVSG'), ('QPSSVDSQTAM', 'QPSSVDSQTAM'), ('WAF', 'WAF'), ('YMVSAIWG', 'YMVSAIWG'), ('GAA', 'GAA'), ('GFVG', 'GFVG'), ('APGAPGPVG', 'APGAPGPVG'), ('PDLVF', 'PDLVF'), ('MKC', 'MKC'), ('KCL', 'KCL'), ('CLL', 'CLL'), ('LLL', 'LLL'), ('LLA', 'LLA'), ('LAL', 'LAL'), ('ALA', 'ALA'), ('ALT', 'ALT'), ('TCG', 'TCG'), ('CGA', 'CGA'), ('GAQ', 'GAQ'), ('AQA', 'AQA'), ('QAL', 'QAL'), ('ALI', 'ALI'), ('LIV', 'LIV'), ('IVT', 'IVT'), ('VTQ', 'VTQ'), ('TQT', 'TQT'), ('QTM', 'QTM'), ('TMK', 'TMK'), ('MKG', 'MKG'), ('KGL', 'KGL'), ('GLD', 'GLD'), ('LDI', 'LDI'), ('DIQ', 'DIQ'), ('IQK', 'IQK'), ('QKV', 'QKV'), ('KVA', 'KVA'), ('VAG', 'VAG'), ('AGT', 'AGT'), ('TWY', 'TWY'), ('YSL', 'YSL'), ('SLA', 'SLA'), ('LAM', 'LAM'), ('AMA', 'AMA'), ('MAA', 'MAA'), ('AAS', 'AAS'), ('ASD', 'ASD'), ('SDI', 'SDI'), ('DIS', 'DIS'), ('ISL', 'ISL'), ('SLL', 'SLL'), ('LLD', 'LLD'), ('LDA', 'LDA'), ('DAQ', 'DAQ'), ('AQS', 'AQS'), ('QSA', 'QSA'), ('SAP', 'SAP'), ('APL', 'APL'), ('PLR', 'PLR'), ('LRV', 'LRV'), ('RVY', 'RVY'), ('VYV', 'VYV'), ('YVE', 'YVE'), ('VEE', 'VEE'), ('EEL', 'EEL'), ('ELK', 'ELK'), ('KPT', 'KPT'), ('PTP', 'PTP'), ('TPE', 'TPE'), ('PEG', 'PEG'), ('EGD', 'EGD'), ('LLF', 'LLF'), ('FCM', 'FCM'), ('MEN', 'MEN'), ('ENS', 'ENS'), ('NSA', 'NSA'), ('GDL', 'GDL'), ('DLE', 'DLE'), ('LEI', 'LEI'), ('EIL', 'EIL'), ('ILL', 'ILL'), ('LLQ', 'LLQ'), ('LQK', 'LQK'), ('KWE', 'KWE'), ('SAE', 'SAE'), ('AEP', 'AEP'), ('EPE', 'EPE'), ('PEQ', 'PEQ'), ('EQS', 'EQS'), ('QSL', 'QSL'), ('ENG', 'ENG'), ('NGE', 'NGE'), ('AQK', 'AQK'), ('QKK', 'QKK'), ('KKI', 'KKI'), ('KII', 'KII'), ('IIA', 'IIA'), ('LVR', 'LVR'), ('VRT', 'VRT'), ('RTP', 'RTP'), ('PEV', 'PEV'), ('EVD', 'EVD'), ('VDD', 'VDD'), ('DDE', 'DDE'), ('DEA', 'DEA'), ('EAL', 'EAL'), ('IAE', 'IAE'), ('AEK', 'AEK'), ('EKT', 'EKT'), ('KTK', 'KTK'), ('TKI', 'TKI'), ('KIP', 'KIP'), ('IPA', 'IPA'), ('PAV', 'PAV'), ('AVF', 'AVF'), ('VFK', 'VFK'), ('ALE', 'ALE'), ('LEK', 'LEK'), ('EKF', 'EKF'), ('KFD', 'KFD'), ('FDK', 'FDK'), ('DKA', 'DKA'), ('KAL', 'KAL'), ('ALK', 'ALK'), ('LKA', 'LKA'), ('ALP', 'ALP'), ('FKI', 'FKI'), ('KID', 'KID'), ('IDA', 'IDA'), ('DAL', 'DAL'), ('ALN', 'ALN'), ('LNE', 'LNE'), ('ENK', 'ENK'), ('NKV', 'NKV'), ('KVL', 'KVL'), ('PMH', 'PMH'), ('HIR', 'HIR'), ('IRL', 'IRL'), ('RLS', 'RLS'), ('LSF', 'LSF'), ('SFN', 'SFN'), ('FNP', 'FNP'), ('NPT', 'NPT'), ('VLV', 'VLV'), ('LVL', 'LVL'), ('VLD', 'VLD'), ('LDT', 'LDT'), ('DTD', 'DTD'), ('YKK', 'YKK'), ('PTQ', 'PTQ'), ('TQL', 'TQL'), ('QLE', 'QLE'), ('LEE', 'LEE'), ('EEQ', 'EEQ'), ('YPKLAPNE', 'YPKLAPNE'), ('YPQLLPNE', 'YPQLLPNE'), ('DPAQPNYPWTAVLVFRH', 'DPAQPNYPWTAVLVFRH'), ('TMFPSA', 'TMFPSA'), ('WIHNENQGF', 'WIHNENQGF'), ('MPVHTDAD', 'MPVHTDAD'), ('YPSPV', 'YPSPV'), ('SDNRNQGY', 'SDNRNQGY'), ('IQVPL', 'IQVPL'), ('GDRFQDQHQ', 'GDRFQDQHQ'), ('LAGKPQQEHSGEHQ', 'LAGKPQQEHSGEHQ'), ('LQAEQDDR', 'LQAEQDDR'), ('HVIKPPSRA', 'HVIKPPSRA'), ('AVNVDDPSK', 'AVNVDDPSK'), ('KFNRPETT', 'KFNRPETT'), ('PGLPKK', 'PGLPKK'), ('ASLLPPY', 'ASLLPPY'), ('VALGVPHH', 'VALGVPHH'), ('VPPLYPN', 'VPPLYPN'), ('IDTQGK', 'IDTQGK'), ('DIP', 'DIP'), ('VRVQD', 'VRVQD'), ('IMNKRAV', 'IMNKRAV'), ('PEAKIQL', 'PEAKIQL'), ('IWRAREA', 'IWRAREA'), ('DAV', 'DAV'), ('LIRIRIGT', 'LIRIRIGT'), ('LFD', 'LFD'), ('SGRDRLCK', 'SGRDRLCK'), ('MIYTVV', 'MIYTVV'), ('NSTTQ', 'NSTTQ'), ('SLT', 'SLT'), ('EGQSEMGKNS', 'EGQSEMGKNS'), ('EELNEFKTYKIKVIK', 'EELNEFKTYKIKVIK'), ('AGHEGFSS', 'AGHEGFSS'), ('KWQ', 'KWQ'), ('SSQFELRFVN', 'SSQFELRFVN'), ('GES', 'GES'), ('GEFKKKQ', 'GEFKKKQ'), ('THL', 'THL'), ('SP', 'SP'), ('VHR', 'VHR'), ('FSGLPE', 'FSGLPE'), ('DRE', 'DRE'), ('ATDVNIC', 'ATDVNIC'), ('EHNY', 'EHNY'), ('IHEP', 'IHEP'), ('QII', 'QII'), ('LQD', 'LQD'), ('SLDI', 'SLDI'), ('VVHNPPILF', 'VVHNPPILF'), ('GAFRLWD', 'GAFRLWD'), ('VSA', 'VSA'), ('NCKIMTEG', 'NCKIMTEG'), ('NIAQ', 'NIAQ'), ('RIR', 'RIR'), ('LFRHGTYRRTFLPGGEEETED', 'LFRHGTYRRTFLPGGEEETED'), ('SIV', 'SIV'), ('PKLGT', 'PKLGT'), ('NVS', 'NVS'), ('FLVNDCI', 'FLVNDCI'), ('NKTPW', 'NKTPW'), ('CTFPMNPDTERV', 'CTFPMNPDTERV'), ('MKRRPA', 'MKRRPA'), ('IDPQVSMEILAIRAIN', 'IDPQVSMEILAIRAIN'), ('VNALS', 'VNALS'), ('ADA', 'ADA'), ('YTIMGQFSPLAKML', 'YTIMGQFSPLAKML'), ('MLEDVEEP', 'MLEDVEEP'), ('RETSSFLD', 'RETSSFLD'), ('NEAGNIPTIGWQNL', 'NEAGNIPTIGWQNL'), ('LEWVFSLIIDR', 'LEWVFSLIIDR'), ('RKATRV', 'RKATRV'), ('ESE', 'ESE'), ('SVLGD', 'SVLGD'), ('FE', 'FE'), ('VNFF', 'VNFF'), ('GGIMEQDTIS', 'GGIMEQDTIS'), ('WQDEKVNPAFAA', 'WQDEKVNPAFAA'), ('LRKIGVQYRG', 'LRKIGVQYRG'), ('EMLIRIL', 'EMLIRIL'), ('ELAKLQDKA', 'ELAKLQDKA'), ('SELMVSEPI', 'SELMVSEPI'), ('VGS', 'VGS'), ('FATNL', 'FATNL'), ('KAG', 'KAG'), ('AARIRLS', 'AARIRLS'), ('KIPL', 'KIPL'), ('PLCSDS', 'PLCSDS'), ('GFK', 'GFK'), ('YLVC', 'YLVC'), ('VRSDF', 'VRSDF'), ('VQI', 'VQI'), ('SDIGV', 'SDIGV'), ('ERERAGKKKDITLA', 'ERERAGKKKDITLA'), ('DAADVNICNYPMYVDA', 'DAADVNICNYPMYVDA'), ('TGCI', 'TGCI'), ('IK', 'IK'), ('RPLRSYA', 'RPLRSYA'), ('RMSPSG', 'RMSPSG'), ('LLIQ', 'LLIQ'), ('EEVNSPNIEGEPILILAAKGELLFC', 'EEVNSPNIEGEPILILAAKGELLFC'), ('CQG', 'CQG'), ('IGSLL', 'IGSLL'), ('IEL', 'IEL'), ('KVEHDL', 'KVEHDL'), ('TVFALRRG', 'TVFALRRG'), ('NGIL', 'NGIL'), ('AIALAAAKL', 'AIALAAAKL'), ('MEKI', 'MEKI'), ('TFWT', 'TFWT'), ('QCIRITRLII', 'QCIRITRLII'), ('RPPE', 'RPPE'), ('ASEED', 'ASEED'), ('SQKQNGLMFEVE', 'SQKQNGLMFEVE'), ('LYQADCRV', 'LYQADCRV'), ('YPFAKGQLSQ', 'YPFAKGQLSQ'), ('RG', 'RG'), ('QEV', 'QEV'), ('VKLSVSELVV', 'VKLSVSELVV'), ('ELIEFQFLAE', 'ELIEFQFLAE'), ('FPAHST', 'FPAHST'), ('MLLG', 'MLLG'), ('KIK', 'KIK'), ('PGA', 'PGA'), ('TPCKL', 'TPCKL'), ('LTTESK', 'LTTESK'), ('GFCLF', 'GFCLF'), ('PYS', 'PYS'), ('HNQRKRGS', 'HNQRKRGS'), ('GFSSMG', 'GFSSMG'), ('TNQ', 'TNQ'), ('NST', 'NST'), ('TED', 'TED'), ('LN', 'LN'), ('RDA', 'RDA'), ('KNRATLSPDDQLLFLNP', 'KNRATLSPDDQLLFLNP'), ('IIKLYIST', 'IIKLYIST'), ('GIAPSG', 'GIAPSG'), ('ICEEKI', 'ICEEKI'), ('KRLANHKK', 'KRLANHKK'), ('GRSW', 'GRSW'), ('ALKFA', 'ALKFA'), ('GVKLART', 'GVKLART'), ('KEGVPGINA', 'KEGVPGINA'), ('NALIAR', 'NALIAR'), ('EKGA', 'EKGA'), ('ALDSDQYY', 'ALDSDQYY'), ('KVPDKMK', 'KVPDKMK'), ('AGPC', 'AGPC'), ('KAAI', 'KAAI'), ('QSHEAFVMAESNTAF', 'QSHEAFVMAESNTAF'), ('AQELAVK', 'AQELAVK'), ('EPTTGGLDIRG', 'EPTTGGLDIRG'), ('MNINK', 'MNINK'), ('PEPGFVDPPRSMEVLRK', 'PEPGFVDPPRSMEVLRK'), ('GK', 'GK'), ('LCSLGGAK', 'LCSLGGAK'), ('EHVNNDI', 'EHVNNDI'), ('KLLQQ', 'KLLQQ'), ('LLFS', 'LLFS'), ('DLD', 'DLD'), ('NGEW', 'NGEW'), ('MVNGTS', 'MVNGTS'), ('PAHHAEMI', 'PAHHAEMI'), ('LE', 'LE'), ('SFLYARVNEPLMLIS', 'SFLYARVNEPLMLIS'), ('GVFCKAY', 'GVFCKAY'), ('CMF', 'CMF'), ('IPVDSRPLTTL', 'IPVDSRPLTTL'), ('RSADERENPT', 'RSADERENPT'), ('AGLVVHLVGIKEALN', 'AGLVVHLVGIKEALN'), ('LLAGKPSYLPAL', 'LLAGKPSYLPAL'), ('LNPREA', 'LNPREA'), ('YAASKYREQ', 'YAASKYREQ'), ('YRGRIIIRA', 'YRGRIIIRA'), ('RSLQCWR', 'RSLQCWR'), ('LVLTLPPRFG', 'LVLTLPPRFG'), ('TGQSSN', 'TGQSSN'), ('NILAQANYTNG', 'NILAQANYTNG'), ('QSLIT', 'QSLIT'), ('DRMVKGL', 'DRMVKGL'), ('ER', 'ER'), ('ALHLIA', 'ALHLIA'), ('NVRVSTPA', 'NVRVSTPA'), ('KH', 'KH'), ('GFFQ', 'GFFQ'), ('TF', 'TF'), ('SA', 'SA'), ('YLLNT', 'YLLNT'), ('IAQ', 'IAQ'), ('VPRDEAP', 'VPRDEAP'), ('ANGVTRSIFAKRF', 'ANGVTRSIFAKRF'), ('DQEGN', 'DQEGN'), ('GL', 'GL'), ('LDQ', 'LDQ'), ('FHRAVQECTV', 'FHRAVQECTV'), ('LRQSLLRTMP', 'LRQSLLRTMP'), ('MA', 'MA'), ('GRIPGDKGGIFT', 'GRIPGDKGGIFT'), ('YHLGKAFQRKADEA', 'YHLGKAFQRKADEA'), ('DTPRF', 'DTPRF'), ('DALE', 'DALE'), ('IRVRLEPFWLR', 'IRVRLEPFWLR'), ('KPLSYEH', 'KPLSYEH'), ('QAN', 'QAN'), ('GDLP', 'GDLP'), ('GTLIGSKDVVF', 'GTLIGSKDVVF'), ('DNDTQDPLALK', 'DNDTQDPLALK'), ('CVIV', 'CVIV'), ('KMHFPQPQHL', 'KMHFPQPQHL'), ('WDGQGP', 'WDGQGP'), ('EPFAILM', 'EPFAILM'), ('FDPVQI', 'FDPVQI'), ('DSWLNLG', 'DSWLNLG'), ('SY', 'SY'), ('CT', 'CT'), ('GIDNEPLT', 'GIDNEPLT'), ('AQSD', 'AQSD')]\n"
     ]
    }
   ],
   "source": [
    "peptide_sequence_list = []\n",
    "for seq in sequence_list:\n",
    "    format_seq = [seq,seq]\n",
    "    tuple_sequence = tuple(format_seq)\n",
    "    peptide_sequence_list.append(tuple_sequence)\n",
    "print(peptide_sequence_list)"
   ]
  },
  {
   "cell_type": "code",
   "execution_count": 7,
   "id": "798ddaa5",
   "metadata": {},
   "outputs": [
    {
     "name": "stdout",
     "output_type": "stream",
     "text": [
      "          0         1         2         3         4         5         6     \\\n",
      "0     0.101322 -0.054847 -0.076030 -0.143270  0.005912 -0.169835  0.043163   \n",
      "1     0.017252 -0.119017 -0.060289 -0.150465 -0.020410 -0.183808  0.003710   \n",
      "2     0.081909 -0.006320 -0.017331  0.009836  0.062259 -0.122803  0.112387   \n",
      "3     0.007409 -0.046734  0.027885 -0.074698  0.065265 -0.180301 -0.045657   \n",
      "4     0.012916 -0.036204 -0.076009 -0.109539 -0.008256 -0.169509 -0.053947   \n",
      "...        ...       ...       ...       ...       ...       ...       ...   \n",
      "1079  0.038516 -0.062016  0.023377 -0.041475  0.002053 -0.186326 -0.025836   \n",
      "1080  0.009051 -0.066509  0.035998 -0.030954  0.004116 -0.101101  0.056748   \n",
      "1081  0.045995 -0.105470  0.010240 -0.080949  0.100331 -0.077811  0.108092   \n",
      "1082 -0.004965 -0.046012  0.013102 -0.032615  0.027343 -0.182819 -0.031851   \n",
      "1083  0.021076 -0.100040 -0.032961 -0.065161 -0.057682 -0.221389  0.009935   \n",
      "\n",
      "          7         8         9     ...      2550      2551      2552  \\\n",
      "0     0.022767  0.123406  0.063062  ...  0.056752  0.106961 -0.038959   \n",
      "1     0.034495  0.058298  0.098847  ...  0.046553  0.020920  0.027225   \n",
      "2     0.106633  0.035598  0.062210  ...  0.082694  0.003974 -0.008964   \n",
      "3    -0.025238 -0.026100  0.026955  ...  0.059797 -0.014717  0.060763   \n",
      "4     0.059116  0.052506  0.110483  ...  0.077238  0.008010  0.040704   \n",
      "...        ...       ...       ...  ...       ...       ...       ...   \n",
      "1079  0.056100 -0.060365  0.045962  ...  0.092300  0.047460  0.001495   \n",
      "1080  0.045000  0.064470  0.088895  ...  0.078231 -0.083528  0.046933   \n",
      "1081  0.068913  0.035096  0.026120  ...  0.118980 -0.038673  0.133566   \n",
      "1082  0.073889 -0.037308  0.031954  ...  0.032508  0.032189  0.042969   \n",
      "1083  0.007054  0.113768  0.104595  ...  0.015502 -0.074708 -0.005402   \n",
      "\n",
      "          2553      2554      2555      2556      2557      2558      2559  \n",
      "0    -0.008035  0.022677 -0.096252 -0.009002 -0.110449 -0.299706  0.021505  \n",
      "1    -0.073842  0.083381 -0.091942  0.012363 -0.090137 -0.279135  0.030861  \n",
      "2    -0.007146  0.064432 -0.136585 -0.015904 -0.096398 -0.315774 -0.001047  \n",
      "3    -0.045331  0.061464 -0.081947 -0.013519 -0.109983 -0.278409 -0.020308  \n",
      "4    -0.054288  0.053648 -0.121965  0.029779 -0.131454 -0.262712  0.016171  \n",
      "...        ...       ...       ...       ...       ...       ...       ...  \n",
      "1079  0.043987  0.062284 -0.134612 -0.065644 -0.083830 -0.250815  0.036376  \n",
      "1080  0.001702  0.025717 -0.139140 -0.033237 -0.039860 -0.265467  0.017945  \n",
      "1081  0.008827  0.009330 -0.106920  0.058526 -0.095922 -0.335860  0.079520  \n",
      "1082  0.008287  0.094539 -0.093458 -0.037950 -0.080590 -0.237061  0.010681  \n",
      "1083  0.004447  0.081630 -0.119053 -0.010569 -0.147612 -0.136799 -0.077927  \n",
      "\n",
      "[1084 rows x 2560 columns]\n"
     ]
    }
   ],
   "source": [
    "#调试完毕，以此为准！\n",
    "import torch\n",
    "import esm\n",
    "import pandas as pd\n",
    "\n",
    "#load ESM-2 model\n",
    "model, alphabet = esm.pretrained.esm2_t36_3B_UR50D()\n",
    "batch_converter = alphabet.get_batch_converter()\n",
    "model.eval()\n",
    "    \n",
    "#load data\n",
    "data = peptide_sequence_list\n",
    "batch_labels, batch_strs, batch_tokens = batch_converter(data)\n",
    "batch_lens = (batch_tokens != alphabet.padding_idx).sum(1)\n",
    "    \n",
    "# Extract per-residue representations (on CPU)\n",
    "with torch.no_grad():\n",
    "    results = model(batch_tokens, repr_layers=[36], return_contacts=True)\n",
    "token_representations = results[\"representations\"][36]\n",
    "    \n",
    "# Generate per-sequence representations via averaging\n",
    "sequence_representations = []\n",
    "for i, token_len in enumerate(batch_lens):\n",
    "    each_seq_rep = token_representations[i, 1:token_len - 1].mean(0).tolist()  \n",
    "    sequence_representations.append(each_seq_rep)\n",
    "\n",
    "embedding_results = pd.DataFrame(sequence_representations)\n",
    "print(embedding_results)\n",
    "embedding_results.to_csv('ESM_dimension_2560.csv')"
   ]
  },
  {
   "cell_type": "code",
   "execution_count": null,
   "id": "f27b0049",
   "metadata": {},
   "outputs": [],
   "source": []
  },
  {
   "cell_type": "code",
   "execution_count": null,
   "id": "f45399df",
   "metadata": {},
   "outputs": [],
   "source": []
  },
  {
   "cell_type": "code",
   "execution_count": null,
   "id": "e81e5c40",
   "metadata": {},
   "outputs": [],
   "source": []
  },
  {
   "cell_type": "code",
   "execution_count": null,
   "id": "faf91b3d",
   "metadata": {},
   "outputs": [],
   "source": []
  },
  {
   "cell_type": "code",
   "execution_count": null,
   "id": "da29e1c0",
   "metadata": {},
   "outputs": [],
   "source": []
  },
  {
   "cell_type": "code",
   "execution_count": null,
   "id": "53d148ac",
   "metadata": {},
   "outputs": [],
   "source": []
  },
  {
   "cell_type": "code",
   "execution_count": null,
   "id": "bec8dfd3",
   "metadata": {},
   "outputs": [],
   "source": []
  },
  {
   "cell_type": "code",
   "execution_count": null,
   "id": "e5c32101",
   "metadata": {},
   "outputs": [],
   "source": []
  },
  {
   "cell_type": "code",
   "execution_count": null,
   "id": "8055b231",
   "metadata": {},
   "outputs": [],
   "source": []
  }
 ],
 "metadata": {
  "kernelspec": {
   "display_name": "sdsd_torch",
   "language": "python",
   "name": "sdsd_torch"
  },
  "language_info": {
   "codemirror_mode": {
    "name": "ipython",
    "version": 3
   },
   "file_extension": ".py",
   "mimetype": "text/x-python",
   "name": "python",
   "nbconvert_exporter": "python",
   "pygments_lexer": "ipython3",
   "version": "3.9.16"
  }
 },
 "nbformat": 4,
 "nbformat_minor": 5
}
