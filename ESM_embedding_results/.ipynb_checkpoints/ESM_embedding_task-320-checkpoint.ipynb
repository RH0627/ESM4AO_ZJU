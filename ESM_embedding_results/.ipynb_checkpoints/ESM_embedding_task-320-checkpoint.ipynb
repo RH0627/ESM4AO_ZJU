{
 "cells": [
  {
   "cell_type": "code",
   "execution_count": 1,
   "id": "5316fe7d",
   "metadata": {},
   "outputs": [],
   "source": [
    "import os\n",
    "os.chdir('C:/Users/RH/A_try_change/ESM320_clean/test_data')"
   ]
  },
  {
   "cell_type": "code",
   "execution_count": 2,
   "id": "f60ae47e",
   "metadata": {},
   "outputs": [
    {
     "name": "stdout",
     "output_type": "stream",
     "text": [
      "1.5.3\n",
      "1.22.0\n",
      "2.0.0\n",
      "2.0.0\n"
     ]
    }
   ],
   "source": [
    "import pandas as pd\n",
    "import numpy as np\n",
    "import esm\n",
    "import torch\n",
    "\n",
    "print(pd.__version__)\n",
    "print(np.__version__)\n",
    "print(esm.__version__)\n",
    "print(torch.__version__)"
   ]
  },
  {
   "cell_type": "code",
   "execution_count": 3,
   "id": "51def8ca",
   "metadata": {},
   "outputs": [],
   "source": [
    "import numpy as np\n",
    "import pandas as pd"
   ]
  },
  {
   "cell_type": "code",
   "execution_count": 4,
   "id": "ffcfda71",
   "metadata": {},
   "outputs": [],
   "source": [
    "#training dataset loading\n",
    "#打开指定路径的excel文件\n",
    "excel_path = r'C:\\Users\\RH\\A_try_change\\ESM320_clean\\test_data\\X_test_with0.xlsx'\n",
    "dataset = pd.read_excel(excel_path, na_filter=False)\n",
    "sequence_list = dataset['Sequence']"
   ]
  },
  {
   "cell_type": "code",
   "execution_count": 5,
   "id": "bfe38912",
   "metadata": {},
   "outputs": [
    {
     "name": "stdout",
     "output_type": "stream",
     "text": [
      "0                 AGWACLVG\n",
      "1                    IDLAY\n",
      "2                    YPLDL\n",
      "3                  PGAGAVY\n",
      "4                     KDLY\n",
      "5                    EEGER\n",
      "6     LGEHNIDVLEGNEQFINAAK\n",
      "7                       GC\n",
      "8                       CW\n",
      "9                       AC\n",
      "10              AFWYGLPCKL\n",
      "11                WPWQMSLY\n",
      "12             GCFRYACGAFY\n",
      "13            PADVTPEEKPEV\n",
      "14                    HIKW\n",
      "15               HKEMPFPKY\n",
      "16                  HLPPPV\n",
      "17                    KLEK\n",
      "18                   KLSDW\n",
      "19                KTEIPTIN\n",
      "20                 LSSGDVF\n",
      "21              LTDLENLHLP\n",
      "22                   MNWKR\n",
      "Name: Sequence, dtype: object\n"
     ]
    }
   ],
   "source": [
    "print(sequence_list)"
   ]
  },
  {
   "cell_type": "code",
   "execution_count": 6,
   "id": "60f75883",
   "metadata": {},
   "outputs": [
    {
     "name": "stdout",
     "output_type": "stream",
     "text": [
      "[('AGWACLVG', 'AGWACLVG'), ('IDLAY', 'IDLAY'), ('YPLDL', 'YPLDL'), ('PGAGAVY', 'PGAGAVY'), ('KDLY', 'KDLY'), ('EEGER', 'EEGER'), ('LGEHNIDVLEGNEQFINAAK', 'LGEHNIDVLEGNEQFINAAK'), ('GC', 'GC'), ('CW', 'CW'), ('AC', 'AC'), ('AFWYGLPCKL', 'AFWYGLPCKL'), ('WPWQMSLY', 'WPWQMSLY'), ('GCFRYACGAFY', 'GCFRYACGAFY'), ('PADVTPEEKPEV', 'PADVTPEEKPEV'), ('HIKW', 'HIKW'), ('HKEMPFPKY', 'HKEMPFPKY'), ('HLPPPV', 'HLPPPV'), ('KLEK', 'KLEK'), ('KLSDW', 'KLSDW'), ('KTEIPTIN', 'KTEIPTIN'), ('LSSGDVF', 'LSSGDVF'), ('LTDLENLHLP', 'LTDLENLHLP'), ('MNWKR', 'MNWKR')]\n"
     ]
    }
   ],
   "source": [
    "peptide_sequence_list = []\n",
    "for seq in sequence_list:\n",
    "    format_seq = [seq,seq]\n",
    "    tuple_sequence = tuple(format_seq)\n",
    "    peptide_sequence_list.append(tuple_sequence)\n",
    "print(peptide_sequence_list)"
   ]
  },
  {
   "cell_type": "code",
   "execution_count": 7,
   "id": "798ddaa5",
   "metadata": {},
   "outputs": [
    {
     "name": "stdout",
     "output_type": "stream",
     "text": [
      "         0         1         2         3         4         5         6    \\\n",
      "0   0.110828 -0.111868  0.222873  0.161503 -0.002739 -0.114696 -0.261572   \n",
      "1   0.096041 -0.239525  0.265911  0.116455  0.065096 -0.142724 -0.151182   \n",
      "2   0.165417 -0.473946  0.214574  0.246487  0.169720  0.051205 -0.024147   \n",
      "3   0.085130 -0.234673  0.307850  0.235530  0.114841 -0.089224 -0.202106   \n",
      "4   0.069914 -0.263550  0.325605  0.252037  0.065139 -0.149096 -0.151257   \n",
      "5   0.138192 -0.539460  0.634990  0.253723 -0.022842 -0.216154 -0.064888   \n",
      "6   0.186980 -0.121694  0.314884  0.105569 -0.002370 -0.104278 -0.046511   \n",
      "7   0.068464 -0.261986  0.378461  0.362863 -0.012778 -0.145637 -0.321035   \n",
      "8   0.108004 -0.257667  0.192305  0.422168 -0.036058 -0.120940 -0.411409   \n",
      "9   0.076401 -0.220906  0.267881  0.205026 -0.112214 -0.079951 -0.489631   \n",
      "10  0.068256 -0.289756  0.189662  0.270821  0.104051 -0.189975 -0.275599   \n",
      "11  0.025845 -0.315082  0.240671  0.262804  0.095837 -0.198764 -0.239568   \n",
      "12  0.093249 -0.143775  0.081071  0.321848 -0.001018 -0.156203 -0.319313   \n",
      "13  0.079367 -0.162316  0.283348  0.045113  0.202451  0.207253 -0.008247   \n",
      "14  0.003926 -0.345963  0.194430  0.239175 -0.051080 -0.239033 -0.264974   \n",
      "15  0.043360 -0.319928  0.249792  0.277381  0.093562 -0.200073 -0.114238   \n",
      "16 -0.099632 -0.464821  0.293702  0.152655  0.044507 -0.057986 -0.122965   \n",
      "17  0.042396 -0.314551  0.405508  0.238394 -0.009791 -0.112242 -0.160713   \n",
      "18  0.062072 -0.310636  0.224192  0.126218  0.065241 -0.089851 -0.156301   \n",
      "19  0.124857 -0.300351  0.338828  0.184617  0.089968 -0.143791 -0.088592   \n",
      "20  0.136514 -0.306876  0.345180  0.016111  0.010940 -0.104335 -0.176595   \n",
      "21  0.076451 -0.252572  0.274336 -0.026722  0.089324 -0.241943 -0.039551   \n",
      "22  0.099763 -0.396353  0.223066  0.383615 -0.061305 -0.380060 -0.371023   \n",
      "\n",
      "         7         8         9    ...       310       311       312       313  \\\n",
      "0  -0.189932 -0.253812 -0.010387  ... -0.117044  0.008365  0.017972 -0.203818   \n",
      "1  -0.024324 -0.075095 -0.149269  ...  0.023433  0.023984  0.161642 -0.122695   \n",
      "2  -0.084597 -0.251252 -0.334219  ...  0.197065  0.001864  0.230128  0.045792   \n",
      "3  -0.144112 -0.150481 -0.117708  ...  0.007996  0.062262  0.099013 -0.198591   \n",
      "4  -0.050008 -0.183957 -0.184294  ...  0.128653  0.027678  0.096840 -0.084871   \n",
      "5   0.104792 -0.210972 -0.105844  ...  0.185799  0.187377 -0.095158 -0.070138   \n",
      "6  -0.037160  0.018294 -0.141199  ...  0.029875  0.103999  0.091733 -0.131485   \n",
      "7  -0.146082 -0.232074 -0.131410  ...  0.153607 -0.011576 -0.030215 -0.140440   \n",
      "8  -0.202366 -0.231497 -0.234244  ... -0.125472 -0.091367  0.059893 -0.060423   \n",
      "9  -0.103741 -0.151307 -0.147179  ...  0.123941 -0.004420  0.232972 -0.221183   \n",
      "10 -0.070418 -0.209419 -0.114351  ... -0.000811 -0.070148  0.114082 -0.005381   \n",
      "11 -0.024027 -0.232148 -0.210012  ... -0.108056 -0.208075  0.094502  0.085947   \n",
      "12 -0.154425 -0.219872 -0.092433  ...  0.007667 -0.080683  0.144195 -0.189995   \n",
      "13 -0.182846 -0.069536 -0.127276  ...  0.187409  0.191411 -0.058249  0.211224   \n",
      "14 -0.065070 -0.232115 -0.146273  ...  0.132236 -0.132956  0.057692  0.103621   \n",
      "15 -0.072589 -0.187966 -0.173175  ...  0.219859 -0.042437  0.109112  0.153206   \n",
      "16 -0.167882 -0.171742 -0.278447  ...  0.266967 -0.070678  0.145533  0.135329   \n",
      "17  0.020747 -0.229392 -0.199906  ...  0.201145  0.057676  0.113194  0.086317   \n",
      "18 -0.050552 -0.236201 -0.104732  ...  0.107386 -0.053331  0.134980  0.032640   \n",
      "19 -0.028872 -0.020105 -0.187468  ...  0.241509  0.101853  0.191275  0.056507   \n",
      "20 -0.040815 -0.266047 -0.016743  ...  0.119077 -0.121419  0.235849  0.032336   \n",
      "21  0.068376 -0.022039 -0.247067  ...  0.078909  0.140619  0.143125  0.097077   \n",
      "22  0.064509 -0.216297 -0.086820  ... -0.010539 -0.042710  0.103702  0.142671   \n",
      "\n",
      "         314       315       316       317       318       319  \n",
      "0  -0.155578  0.007320  0.012881 -0.042035  0.345677 -0.020555  \n",
      "1   0.080822 -0.079693 -0.029814  0.038142  0.208733 -0.028902  \n",
      "2  -0.007605  0.063489  0.245987 -0.082807  0.398797  0.019618  \n",
      "3  -0.065496  0.036671  0.080166  0.046451  0.359535 -0.140139  \n",
      "4   0.046144  0.008619  0.003730  0.053562  0.206312  0.030067  \n",
      "5   0.090005  0.184767  0.008509 -0.155501  0.344545 -0.035110  \n",
      "6   0.111429 -0.069754 -0.116708  0.060021  0.134212 -0.054238  \n",
      "7  -0.229785  0.002830 -0.217270 -0.079786  0.288224 -0.032582  \n",
      "8   0.086685 -0.045482  0.023253 -0.069123  0.287708 -0.052074  \n",
      "9  -0.151010  0.044093 -0.053682  0.054150  0.171899 -0.033157  \n",
      "10 -0.024696  0.037612  0.008045 -0.070787  0.315966  0.036360  \n",
      "11  0.076652  0.173020  0.154009 -0.051558  0.300606  0.072782  \n",
      "12 -0.163939 -0.127043 -0.092427 -0.177781  0.373601 -0.066285  \n",
      "13  0.052957 -0.042765  0.210499  0.066437 -0.060709 -0.045454  \n",
      "14  0.051108  0.167652  0.046327  0.053305  0.164845  0.100804  \n",
      "15  0.113273  0.136948  0.086567  0.030835  0.193599  0.096269  \n",
      "16  0.017107  0.342343  0.289138  0.247470  0.212841  0.079369  \n",
      "17  0.009993  0.185842  0.090893  0.082934  0.181726  0.183800  \n",
      "18 -0.018189  0.094451  0.081341  0.123679  0.173388  0.079042  \n",
      "19  0.140198  0.176859  0.123535 -0.016619  0.175243  0.109042  \n",
      "20 -0.132703  0.104426  0.088812  0.045647  0.313498  0.024520  \n",
      "21  0.155917  0.131215  0.078514  0.228540  0.105281 -0.057988  \n",
      "22 -0.032804  0.316490  0.115379  0.147277  0.108489  0.144888  \n",
      "\n",
      "[23 rows x 320 columns]\n"
     ]
    }
   ],
   "source": [
    "#调试完毕，以此为准！\n",
    "import torch\n",
    "import esm\n",
    "import pandas as pd\n",
    "\n",
    "#load ESM-2 model\n",
    "model, alphabet = esm.pretrained.esm2_t6_8M_UR50D()\n",
    "batch_converter = alphabet.get_batch_converter()\n",
    "model.eval()\n",
    "    \n",
    "#load data\n",
    "data = peptide_sequence_list\n",
    "batch_labels, batch_strs, batch_tokens = batch_converter(data)\n",
    "batch_lens = (batch_tokens != alphabet.padding_idx).sum(1)\n",
    "    \n",
    "# Extract per-residue representations (on CPU)\n",
    "with torch.no_grad():\n",
    "    results = model(batch_tokens, repr_layers=[6], return_contacts=True)\n",
    "token_representations = results[\"representations\"][6]\n",
    "    \n",
    "# Generate per-sequence representations via averaging\n",
    "sequence_representations = []\n",
    "for i, token_len in enumerate(batch_lens):\n",
    "    each_seq_rep = token_representations[i, 1:token_len - 1].mean(0).tolist()  \n",
    "    sequence_representations.append(each_seq_rep)\n",
    "\n",
    "embedding_results = pd.DataFrame(sequence_representations)\n",
    "print(embedding_results)\n",
    "embedding_results.to_csv('X_test_320_final.csv')"
   ]
  },
  {
   "cell_type": "code",
   "execution_count": null,
   "id": "f27b0049",
   "metadata": {},
   "outputs": [],
   "source": []
  },
  {
   "cell_type": "code",
   "execution_count": null,
   "id": "f45399df",
   "metadata": {},
   "outputs": [],
   "source": []
  },
  {
   "cell_type": "code",
   "execution_count": null,
   "id": "e81e5c40",
   "metadata": {},
   "outputs": [],
   "source": []
  },
  {
   "cell_type": "code",
   "execution_count": null,
   "id": "faf91b3d",
   "metadata": {},
   "outputs": [],
   "source": []
  },
  {
   "cell_type": "code",
   "execution_count": null,
   "id": "da29e1c0",
   "metadata": {},
   "outputs": [],
   "source": []
  },
  {
   "cell_type": "code",
   "execution_count": null,
   "id": "53d148ac",
   "metadata": {},
   "outputs": [],
   "source": []
  },
  {
   "cell_type": "code",
   "execution_count": null,
   "id": "bec8dfd3",
   "metadata": {},
   "outputs": [],
   "source": []
  },
  {
   "cell_type": "code",
   "execution_count": null,
   "id": "e5c32101",
   "metadata": {},
   "outputs": [],
   "source": []
  },
  {
   "cell_type": "code",
   "execution_count": null,
   "id": "8055b231",
   "metadata": {},
   "outputs": [],
   "source": []
  }
 ],
 "metadata": {
  "kernelspec": {
   "display_name": "sdsd_torch",
   "language": "python",
   "name": "sdsd_torch"
  },
  "language_info": {
   "codemirror_mode": {
    "name": "ipython",
    "version": 3
   },
   "file_extension": ".py",
   "mimetype": "text/x-python",
   "name": "python",
   "nbconvert_exporter": "python",
   "pygments_lexer": "ipython3",
   "version": "3.9.16"
  }
 },
 "nbformat": 4,
 "nbformat_minor": 5
}
