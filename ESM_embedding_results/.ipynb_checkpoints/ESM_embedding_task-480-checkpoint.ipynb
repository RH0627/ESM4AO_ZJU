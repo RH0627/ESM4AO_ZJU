{
 "cells": [
  {
   "cell_type": "code",
   "execution_count": 1,
   "id": "5316fe7d",
   "metadata": {},
   "outputs": [],
   "source": [
    "import os\n",
    "os.chdir('C:/Users/RH/A_whole_try_prog/y_test_data')"
   ]
  },
  {
   "cell_type": "code",
   "execution_count": 2,
   "id": "f60ae47e",
   "metadata": {},
   "outputs": [
    {
     "name": "stdout",
     "output_type": "stream",
     "text": [
      "1.5.3\n",
      "1.22.0\n",
      "2.0.0\n",
      "2.0.0\n"
     ]
    }
   ],
   "source": [
    "import pandas as pd\n",
    "import numpy as np\n",
    "import esm\n",
    "import torch\n",
    "\n",
    "print(pd.__version__)\n",
    "print(np.__version__)\n",
    "print(esm.__version__)\n",
    "print(torch.__version__)"
   ]
  },
  {
   "cell_type": "code",
   "execution_count": 3,
   "id": "51def8ca",
   "metadata": {},
   "outputs": [],
   "source": [
    "import numpy as np\n",
    "import pandas as pd"
   ]
  },
  {
   "cell_type": "code",
   "execution_count": 4,
   "id": "ffcfda71",
   "metadata": {},
   "outputs": [],
   "source": [
    "#training dataset loading\n",
    "#打开指定路径的excel文件\n",
    "excel_path = r'C:\\Users\\RH\\A_whole_try_prog\\X_test_nr.xlsx'\n",
    "dataset = pd.read_excel(excel_path, na_filter=False)\n",
    "sequence_list = dataset['Sequence']"
   ]
  },
  {
   "cell_type": "code",
   "execution_count": 5,
   "id": "bfe38912",
   "metadata": {},
   "outputs": [
    {
     "name": "stdout",
     "output_type": "stream",
     "text": [
      "0                  AHK\n",
      "1                  VHH\n",
      "2              VHHANEN\n",
      "3             VNPHDHQN\n",
      "4            LVNPHDHQN\n",
      "5           LLPHHADADY\n",
      "6              VIPAGYP\n",
      "7     LQSGDALRVPSGTTYY\n",
      "8                  VKL\n",
      "9                 VVKL\n",
      "10                 IVF\n",
      "11                 FSL\n",
      "12                  PP\n",
      "13              SVPQPK\n",
      "14               EVPKA\n",
      "15              PLAQPA\n",
      "16               LLNPT\n",
      "17               HLPLP\n",
      "18              VLPIPQ\n",
      "19                 LWL\n",
      "Name: Sequence, dtype: object\n"
     ]
    }
   ],
   "source": [
    "print(sequence_list)"
   ]
  },
  {
   "cell_type": "raw",
   "id": "663437f5",
   "metadata": {},
   "source": [
    "#loading the y_label dataset for model development\n",
    "import numpy as np\n",
    "\n",
    "# loading the y dataset for model development\n",
    "y_group = dataset['group']\n",
    "# change the label\n",
    "y = np.array([])  # Initialize an empty NumPy array\n",
    "\n",
    "for each in y_group:\n",
    "    if each == 'A':\n",
    "        y = np.append(y, 0)\n",
    "    elif each == 'B':\n",
    "        y = np.append(y, 1)\n",
    "    elif each == 'C':\n",
    "        y = np.append(y, 2)\n",
    "    elif each == 'D':\n",
    "        y = np.append(y, 3)\n",
    "\n",
    "y = np.array(y)  # transformed as np.array for CNN model"
   ]
  },
  {
   "cell_type": "code",
   "execution_count": 6,
   "id": "60f75883",
   "metadata": {},
   "outputs": [
    {
     "name": "stdout",
     "output_type": "stream",
     "text": [
      "[('AHK', 'AHK'), ('VHH', 'VHH'), ('VHHANEN', 'VHHANEN'), ('VNPHDHQN', 'VNPHDHQN'), ('LVNPHDHQN', 'LVNPHDHQN'), ('LLPHHADADY', 'LLPHHADADY'), ('VIPAGYP', 'VIPAGYP'), ('LQSGDALRVPSGTTYY', 'LQSGDALRVPSGTTYY'), ('VKL', 'VKL'), ('VVKL', 'VVKL'), ('IVF', 'IVF'), ('FSL', 'FSL'), ('PP', 'PP'), ('SVPQPK', 'SVPQPK'), ('EVPKA', 'EVPKA'), ('PLAQPA', 'PLAQPA'), ('LLNPT', 'LLNPT'), ('HLPLP', 'HLPLP'), ('VLPIPQ', 'VLPIPQ'), ('LWL', 'LWL')]\n"
     ]
    }
   ],
   "source": [
    "peptide_sequence_list = []\n",
    "for seq in sequence_list:\n",
    "    format_seq = [seq,seq]\n",
    "    tuple_sequence = tuple(format_seq)\n",
    "    peptide_sequence_list.append(tuple_sequence)\n",
    "print(peptide_sequence_list)"
   ]
  },
  {
   "cell_type": "code",
   "execution_count": 7,
   "id": "798ddaa5",
   "metadata": {},
   "outputs": [
    {
     "name": "stdout",
     "output_type": "stream",
     "text": [
      "         0         1         2         3         4         5         6    \\\n",
      "0  -0.116332 -0.350103  0.233661  0.245473 -0.147785 -0.128958 -0.331269   \n",
      "1  -0.054674 -0.235630  0.198577  0.241546 -0.169054 -0.155177 -0.392659   \n",
      "2  -0.000828 -0.090696  0.206846  0.129747 -0.103830 -0.113478 -0.219809   \n",
      "3  -0.041371 -0.112135  0.244645  0.181520 -0.093399 -0.163702 -0.276983   \n",
      "4  -0.047274 -0.107493  0.220792  0.184172 -0.056658 -0.132734 -0.182958   \n",
      "5   0.035068 -0.202087  0.184955  0.121891 -0.112658 -0.063387 -0.193854   \n",
      "6   0.027588 -0.132473  0.233385  0.126259 -0.065988 -0.003404 -0.266010   \n",
      "7   0.083690 -0.036041  0.027686 -0.070589  0.034067 -0.056349 -0.128763   \n",
      "8  -0.183499 -0.015560  0.146414  0.282784  0.050134 -0.060260 -0.347426   \n",
      "9  -0.130950  0.005240  0.199912  0.323561  0.072376 -0.002095 -0.375826   \n",
      "10 -0.229531  0.266537  0.091407  0.491034  0.045132 -0.083081 -0.352996   \n",
      "11 -0.326863  0.050528 -0.003625  0.270295  0.144629 -0.050793 -0.212074   \n",
      "12 -0.038697 -0.495559  0.134998  0.148780 -0.136003  0.228419 -0.303855   \n",
      "13 -0.172958 -0.037213  0.240321  0.203804 -0.109528 -0.068769 -0.258028   \n",
      "14 -0.018123 -0.068979  0.268916  0.193494 -0.117154  0.019366 -0.264789   \n",
      "15  0.009483 -0.153342  0.093047  0.325428 -0.143568 -0.088497 -0.201493   \n",
      "16 -0.139579 -0.063957  0.035835  0.262719  0.106028 -0.185717 -0.105645   \n",
      "17 -0.164950 -0.237416  0.114508  0.164089 -0.073608 -0.086879 -0.145880   \n",
      "18 -0.092919 -0.002847  0.124869  0.388162 -0.019686 -0.179624 -0.178552   \n",
      "19 -0.317830 -0.137821  0.057111  0.329569  0.154934 -0.151631 -0.200557   \n",
      "\n",
      "         7         8         9    ...       470       471       472       473  \\\n",
      "0   0.180557  0.230075  0.096422  ...  0.085875 -0.220500  0.184289  0.089960   \n",
      "1   0.431394  0.332896  0.126122  ... -0.160183 -0.164513  0.076551  0.203899   \n",
      "2   0.164544  0.331498  0.000642  ...  0.147254 -0.142756  0.203079  0.083246   \n",
      "3   0.216558  0.329422  0.022738  ... -0.029992 -0.161544  0.121624  0.048310   \n",
      "4   0.192824  0.329092  0.013901  ... -0.051010 -0.123650  0.122470  0.107877   \n",
      "5   0.118099  0.325108  0.050887  ... -0.132115 -0.203973  0.159181  0.095384   \n",
      "6  -0.001868  0.301807 -0.003716  ... -0.101820 -0.049433  0.011438 -0.081195   \n",
      "7  -0.007816  0.105654  0.150410  ... -0.038563 -0.107891  0.163392 -0.136077   \n",
      "8   0.014217  0.206969  0.107257  ... -0.090342 -0.053001  0.105359  0.105535   \n",
      "9  -0.014207  0.252246  0.114922  ... -0.104366 -0.067818  0.095712  0.177133   \n",
      "10  0.101104  0.330515 -0.037535  ... -0.077947 -0.043496 -0.003460  0.033726   \n",
      "11  0.294828  0.329779 -0.045324  ... -0.075583  0.076623  0.011538  0.114993   \n",
      "12  0.263620  0.208964  0.120163  ... -0.427015  0.128403 -0.106800  0.089882   \n",
      "13  0.054850  0.269853  0.071858  ... -0.040910 -0.051576 -0.010572  0.021860   \n",
      "14 -0.078271  0.253051  0.105265  ... -0.043208 -0.019772  0.144124  0.067818   \n",
      "15  0.054275  0.261250  0.031314  ... -0.166735 -0.056805 -0.003418  0.010637   \n",
      "16 -0.079625  0.209868 -0.055133  ... -0.266791  0.008835 -0.003599  0.165539   \n",
      "17  0.218581  0.286280  0.016633  ... -0.380400 -0.157180  0.018281  0.114875   \n",
      "18 -0.023537  0.210804 -0.061726  ... -0.226902  0.031373 -0.110363  0.040519   \n",
      "19  0.184807  0.181094  0.087003  ... -0.349684 -0.090726  0.121247  0.150445   \n",
      "\n",
      "         474       475       476       477       478       479  \n",
      "0  -0.336560 -0.045280  0.034840 -0.434523 -0.128125  0.054159  \n",
      "1  -0.455423 -0.117395 -0.119239 -0.317319 -0.083574  0.031659  \n",
      "2  -0.278523 -0.072856  0.141089 -0.293484 -0.186556  0.056915  \n",
      "3  -0.266451 -0.150091  0.137764 -0.318636 -0.072468  0.108808  \n",
      "4  -0.262369 -0.139560  0.094958 -0.323145 -0.093528  0.058241  \n",
      "5  -0.264844 -0.116602  0.038184 -0.241292 -0.122181  0.012439  \n",
      "6  -0.353632 -0.099281  0.183481 -0.352181 -0.102282  0.175454  \n",
      "7  -0.132957 -0.216208  0.117701 -0.264946 -0.120117  0.038159  \n",
      "8  -0.279342 -0.071873  0.039192 -0.392240  0.008142  0.132351  \n",
      "9  -0.381462 -0.097852  0.015839 -0.370297 -0.025640  0.151747  \n",
      "10 -0.416622  0.024308  0.064925 -0.385066  0.046720  0.210849  \n",
      "11 -0.335375  0.017200  0.077572 -0.224593 -0.044573  0.170115  \n",
      "12 -0.254011 -0.294897 -0.008884 -0.353227  0.073479  0.239920  \n",
      "13 -0.372650 -0.055653  0.153266 -0.374853 -0.047353  0.114052  \n",
      "14 -0.343100 -0.101232  0.144309 -0.300372 -0.038809  0.069012  \n",
      "15 -0.376484 -0.194320  0.078478 -0.466214 -0.061202 -0.011704  \n",
      "16 -0.225439 -0.177504  0.117426 -0.407947 -0.046532  0.084322  \n",
      "17 -0.176303 -0.225204  0.077103 -0.427689 -0.026231 -0.016743  \n",
      "18 -0.313339 -0.234998  0.168520 -0.453841 -0.032143  0.108987  \n",
      "19 -0.273553 -0.117350 -0.077466 -0.346393 -0.052470  0.022143  \n",
      "\n",
      "[20 rows x 480 columns]\n"
     ]
    }
   ],
   "source": [
    "#调试完毕，以此为准！\n",
    "import torch\n",
    "import esm\n",
    "import pandas as pd\n",
    "\n",
    "#load ESM-2 model\n",
    "model, alphabet = esm.pretrained.esm2_t12_35M_UR50D()\n",
    "batch_converter = alphabet.get_batch_converter()\n",
    "model.eval()\n",
    "    \n",
    "#load data\n",
    "data = peptide_sequence_list\n",
    "batch_labels, batch_strs, batch_tokens = batch_converter(data)\n",
    "batch_lens = (batch_tokens != alphabet.padding_idx).sum(1)\n",
    "    \n",
    "# Extract per-residue representations (on CPU)\n",
    "with torch.no_grad():\n",
    "    results = model(batch_tokens, repr_layers=[12], return_contacts=True)\n",
    "token_representations = results[\"representations\"][12]\n",
    "    \n",
    "# Generate per-sequence representations via averaging\n",
    "sequence_representations = []\n",
    "for i, token_len in enumerate(batch_lens):\n",
    "    each_seq_rep = token_representations[i, 1:token_len - 1].mean(0).tolist()  \n",
    "    sequence_representations.append(each_seq_rep)\n",
    "\n",
    "embedding_results = pd.DataFrame(sequence_representations)\n",
    "print(embedding_results)\n",
    "embedding_results.to_csv('X_test_480.csv')"
   ]
  },
  {
   "cell_type": "code",
   "execution_count": null,
   "id": "f27b0049",
   "metadata": {},
   "outputs": [],
   "source": []
  },
  {
   "cell_type": "code",
   "execution_count": null,
   "id": "f45399df",
   "metadata": {},
   "outputs": [],
   "source": []
  },
  {
   "cell_type": "code",
   "execution_count": null,
   "id": "e81e5c40",
   "metadata": {},
   "outputs": [],
   "source": []
  },
  {
   "cell_type": "code",
   "execution_count": null,
   "id": "faf91b3d",
   "metadata": {},
   "outputs": [],
   "source": []
  },
  {
   "cell_type": "code",
   "execution_count": null,
   "id": "da29e1c0",
   "metadata": {},
   "outputs": [],
   "source": []
  },
  {
   "cell_type": "code",
   "execution_count": null,
   "id": "53d148ac",
   "metadata": {},
   "outputs": [],
   "source": []
  },
  {
   "cell_type": "code",
   "execution_count": null,
   "id": "bec8dfd3",
   "metadata": {},
   "outputs": [],
   "source": []
  },
  {
   "cell_type": "code",
   "execution_count": null,
   "id": "e5c32101",
   "metadata": {},
   "outputs": [],
   "source": []
  },
  {
   "cell_type": "code",
   "execution_count": null,
   "id": "8055b231",
   "metadata": {},
   "outputs": [],
   "source": []
  }
 ],
 "metadata": {
  "kernelspec": {
   "display_name": "sdsd_torch",
   "language": "python",
   "name": "sdsd_torch"
  },
  "language_info": {
   "codemirror_mode": {
    "name": "ipython",
    "version": 3
   },
   "file_extension": ".py",
   "mimetype": "text/x-python",
   "name": "python",
   "nbconvert_exporter": "python",
   "pygments_lexer": "ipython3",
   "version": "3.9.16"
  }
 },
 "nbformat": 4,
 "nbformat_minor": 5
}
