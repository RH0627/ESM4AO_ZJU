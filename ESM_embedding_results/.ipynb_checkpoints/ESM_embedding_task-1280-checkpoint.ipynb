{
 "cells": [
  {
   "cell_type": "code",
   "execution_count": 1,
   "id": "5316fe7d",
   "metadata": {},
   "outputs": [],
   "source": [
    "import os\n",
    "os.chdir('C:/Users/RH/A_whole_try_prog/y_test_data')"
   ]
  },
  {
   "cell_type": "code",
   "execution_count": 2,
   "id": "f60ae47e",
   "metadata": {},
   "outputs": [
    {
     "name": "stdout",
     "output_type": "stream",
     "text": [
      "1.5.3\n",
      "1.22.0\n",
      "2.0.0\n",
      "2.0.0\n"
     ]
    }
   ],
   "source": [
    "import pandas as pd\n",
    "import numpy as np\n",
    "import esm\n",
    "import torch\n",
    "\n",
    "print(pd.__version__)\n",
    "print(np.__version__)\n",
    "print(esm.__version__)\n",
    "print(torch.__version__)"
   ]
  },
  {
   "cell_type": "code",
   "execution_count": 3,
   "id": "51def8ca",
   "metadata": {},
   "outputs": [],
   "source": [
    "import numpy as np\n",
    "import pandas as pd"
   ]
  },
  {
   "cell_type": "code",
   "execution_count": 4,
   "id": "ffcfda71",
   "metadata": {},
   "outputs": [],
   "source": [
    "#training dataset loading\n",
    "#打开指定路径的excel文件\n",
    "excel_path = r'C:\\Users\\RH\\A_whole_try_prog\\X_test_nr.xlsx'\n",
    "dataset = pd.read_excel(excel_path, na_filter=False)\n",
    "sequence_list = dataset['Sequence']"
   ]
  },
  {
   "cell_type": "code",
   "execution_count": 5,
   "id": "bfe38912",
   "metadata": {},
   "outputs": [
    {
     "name": "stdout",
     "output_type": "stream",
     "text": [
      "0                  AHK\n",
      "1                  VHH\n",
      "2              VHHANEN\n",
      "3             VNPHDHQN\n",
      "4            LVNPHDHQN\n",
      "5           LLPHHADADY\n",
      "6              VIPAGYP\n",
      "7     LQSGDALRVPSGTTYY\n",
      "8                  VKL\n",
      "9                 VVKL\n",
      "10                 IVF\n",
      "11                 FSL\n",
      "12                  PP\n",
      "13              SVPQPK\n",
      "14               EVPKA\n",
      "15              PLAQPA\n",
      "16               LLNPT\n",
      "17               HLPLP\n",
      "18              VLPIPQ\n",
      "19                 LWL\n",
      "Name: Sequence, dtype: object\n"
     ]
    }
   ],
   "source": [
    "print(sequence_list)"
   ]
  },
  {
   "cell_type": "raw",
   "id": "3dbd3916",
   "metadata": {},
   "source": [
    "#loading the y_label dataset for model development\n",
    "import numpy as np\n",
    "\n",
    "# loading the y dataset for model development\n",
    "y_group = dataset['group']\n",
    "# change the label\n",
    "y = np.array([])  # Initialize an empty NumPy array\n",
    "\n",
    "for each in y_group:\n",
    "    if each == 'A':\n",
    "        y = np.append(y, 0)\n",
    "    elif each == 'B':\n",
    "        y = np.append(y, 1)\n",
    "    elif each == 'C':\n",
    "        y = np.append(y, 2)\n",
    "    elif each == 'D':\n",
    "        y = np.append(y, 3)\n",
    "\n",
    "y = np.array(y)  # transformed as np.array for CNN model"
   ]
  },
  {
   "cell_type": "code",
   "execution_count": 6,
   "id": "60f75883",
   "metadata": {},
   "outputs": [
    {
     "name": "stdout",
     "output_type": "stream",
     "text": [
      "[('AHK', 'AHK'), ('VHH', 'VHH'), ('VHHANEN', 'VHHANEN'), ('VNPHDHQN', 'VNPHDHQN'), ('LVNPHDHQN', 'LVNPHDHQN'), ('LLPHHADADY', 'LLPHHADADY'), ('VIPAGYP', 'VIPAGYP'), ('LQSGDALRVPSGTTYY', 'LQSGDALRVPSGTTYY'), ('VKL', 'VKL'), ('VVKL', 'VVKL'), ('IVF', 'IVF'), ('FSL', 'FSL'), ('PP', 'PP'), ('SVPQPK', 'SVPQPK'), ('EVPKA', 'EVPKA'), ('PLAQPA', 'PLAQPA'), ('LLNPT', 'LLNPT'), ('HLPLP', 'HLPLP'), ('VLPIPQ', 'VLPIPQ'), ('LWL', 'LWL')]\n"
     ]
    }
   ],
   "source": [
    "peptide_sequence_list = []\n",
    "for seq in sequence_list:\n",
    "    format_seq = [seq,seq]\n",
    "    tuple_sequence = tuple(format_seq)\n",
    "    peptide_sequence_list.append(tuple_sequence)\n",
    "print(peptide_sequence_list)"
   ]
  },
  {
   "cell_type": "code",
   "execution_count": 7,
   "id": "798ddaa5",
   "metadata": {},
   "outputs": [
    {
     "name": "stdout",
     "output_type": "stream",
     "text": [
      "        0         1         2         3         4         5         6     \\\n",
      "0   0.036479  0.132322 -0.012477  0.172230 -0.057646 -0.102762 -0.221309   \n",
      "1   0.089368  0.029520  0.016745  0.001059 -0.128657 -0.128163 -0.256488   \n",
      "2   0.014724  0.121371  0.062733  0.100393 -0.032653 -0.147418 -0.151980   \n",
      "3  -0.005682  0.094091  0.037555  0.104655  0.049339 -0.196482 -0.148488   \n",
      "4   0.024735  0.089302  0.046541  0.080209  0.032991 -0.205648 -0.150509   \n",
      "5  -0.014631  0.155684  0.005371  0.080860  0.055000 -0.083015 -0.142902   \n",
      "6  -0.024842  0.087603 -0.018586  0.062196  0.018029 -0.129932 -0.100574   \n",
      "7  -0.040522  0.070905  0.091476  0.106613 -0.054882 -0.068831 -0.049461   \n",
      "8   0.030423  0.055366  0.093223  0.038960 -0.055797 -0.063598 -0.187947   \n",
      "9   0.000249  0.065227  0.095760  0.041539 -0.066741 -0.066292 -0.197467   \n",
      "10  0.079011  0.098246  0.176288  0.069504 -0.093190 -0.084974 -0.142306   \n",
      "11  0.111859  0.060217  0.290169  0.089864 -0.026091 -0.061514 -0.205418   \n",
      "12  0.010950  0.118301  0.116470  0.143654  0.007162 -0.059249 -0.189864   \n",
      "13 -0.014794  0.081492  0.033331  0.129659  0.006771 -0.081195 -0.158851   \n",
      "14 -0.021867  0.047102  0.039072  0.157631  0.020162 -0.092481 -0.158993   \n",
      "15  0.008033  0.079590  0.061146  0.119296  0.058614 -0.125972 -0.169666   \n",
      "16  0.054639  0.039922  0.179338  0.091468  0.008564 -0.120094 -0.174682   \n",
      "17  0.031009  0.050642  0.074139  0.043201  0.052865 -0.155669 -0.275274   \n",
      "18  0.032305  0.075455  0.113692  0.036765 -0.004292 -0.111502 -0.160103   \n",
      "19  0.095269 -0.030492  0.164697  0.081365  0.050689 -0.113924 -0.216018   \n",
      "\n",
      "        7         8         9     ...      1270      1271      1272      1273  \\\n",
      "0   0.163504  0.072018 -0.070151  ...  0.002715 -0.107695 -0.111906  0.147353   \n",
      "1   0.236228  0.013310 -0.026719  ...  0.025327 -0.143123 -0.153034  0.165002   \n",
      "2   0.157825  0.076645 -0.044524  ...  0.064359 -0.115923 -0.118267  0.134547   \n",
      "3   0.253730  0.114932  0.040499  ...  0.078431 -0.131336 -0.104913  0.112667   \n",
      "4   0.287009  0.081823  0.037459  ...  0.090361 -0.128543 -0.101803  0.107837   \n",
      "5   0.241958  0.043170 -0.009239  ...  0.066600 -0.094811 -0.074105  0.115607   \n",
      "6   0.215304  0.151138 -0.113276  ...  0.060443 -0.079367  0.078279  0.006432   \n",
      "7   0.175496  0.116293 -0.028064  ...  0.059602 -0.042522 -0.069228  0.113248   \n",
      "8   0.200453  0.187349  0.014910  ...  0.015058 -0.106685 -0.163475  0.124463   \n",
      "9   0.162286  0.157952 -0.018001  ...  0.019326 -0.097643 -0.166128  0.097761   \n",
      "10  0.221650  0.184503 -0.105350  ...  0.013374 -0.029361 -0.049818  0.165348   \n",
      "11  0.305346  0.200828  0.036115  ...  0.027424 -0.057384 -0.127825  0.263280   \n",
      "12  0.296366  0.161101  0.034237  ...  0.041861  0.011018  0.001369  0.147860   \n",
      "13  0.222375  0.193840 -0.019269  ...  0.004293 -0.068884 -0.080515  0.066348   \n",
      "14  0.077393  0.187760 -0.067768  ...  0.032508 -0.133744 -0.133316  0.122972   \n",
      "15  0.123148  0.109210 -0.044515  ... -0.039091 -0.120008 -0.094907  0.148312   \n",
      "16  0.287693  0.161509  0.036874  ...  0.112848 -0.068622 -0.056980  0.147517   \n",
      "17  0.350733  0.125829  0.000159  ...  0.044792 -0.075291 -0.033406  0.142948   \n",
      "18  0.263558  0.158150 -0.002948  ...  0.047873 -0.002022 -0.042436  0.062386   \n",
      "19  0.374345  0.104520  0.109129  ... -0.015231 -0.144254 -0.147077  0.221485   \n",
      "\n",
      "        1274      1275      1276      1277      1278      1279  \n",
      "0   0.072209  0.186963 -0.088455 -0.064521 -0.100142 -0.076369  \n",
      "1   0.017165  0.221854 -0.104152 -0.087051 -0.036837 -0.085651  \n",
      "2  -0.013117  0.123466 -0.077444 -0.094118 -0.071513  0.005063  \n",
      "3   0.015421  0.174165 -0.062136 -0.186284 -0.013220 -0.028869  \n",
      "4  -0.006784  0.176995 -0.057616 -0.176705 -0.031003 -0.001839  \n",
      "5   0.007472  0.202140 -0.070709 -0.113436  0.028037 -0.031838  \n",
      "6   0.030665  0.231137 -0.048863 -0.081296  0.009705  0.021618  \n",
      "7  -0.012253  0.149040 -0.054291 -0.111845  0.000221 -0.004577  \n",
      "8   0.069520  0.201387  0.009964  0.099658 -0.073075 -0.033964  \n",
      "9   0.054154  0.180950 -0.007960  0.131512 -0.074791  0.009157  \n",
      "10 -0.000469  0.207023  0.034656  0.136108 -0.132155 -0.001257  \n",
      "11 -0.035661  0.128064 -0.066276  0.113706 -0.137665 -0.125429  \n",
      "12  0.136006  0.113676  0.038510 -0.162186  0.120812 -0.113152  \n",
      "13  0.030474  0.127980  0.040759 -0.083238 -0.083971  0.008910  \n",
      "14  0.037249  0.063509 -0.016082 -0.045928 -0.085597  0.058942  \n",
      "15  0.106469  0.077321 -0.062345  0.002722 -0.093580  0.072873  \n",
      "16  0.008627  0.161170 -0.045623 -0.054781 -0.075460 -0.035251  \n",
      "17  0.008460  0.213744 -0.016495 -0.069076 -0.008516 -0.057751  \n",
      "18  0.039228  0.166294  0.039988 -0.057830 -0.067072  0.028367  \n",
      "19  0.113659  0.151175  0.028821  0.070015  0.047809 -0.103055  \n",
      "\n",
      "[20 rows x 1280 columns]\n"
     ]
    }
   ],
   "source": [
    "#调试完毕，以此为准！\n",
    "import torch\n",
    "import esm\n",
    "import pandas as pd\n",
    "\n",
    "#load ESM-2 model\n",
    "model, alphabet = esm.pretrained.esm2_t33_650M_UR50D()\n",
    "batch_converter = alphabet.get_batch_converter()\n",
    "model.eval()\n",
    "    \n",
    "#load data\n",
    "data = peptide_sequence_list\n",
    "batch_labels, batch_strs, batch_tokens = batch_converter(data)\n",
    "batch_lens = (batch_tokens != alphabet.padding_idx).sum(1)\n",
    "    \n",
    "# Extract per-residue representations (on CPU)\n",
    "with torch.no_grad():\n",
    "    results = model(batch_tokens, repr_layers=[33], return_contacts=True)\n",
    "token_representations = results[\"representations\"][33]\n",
    "    \n",
    "# Generate per-sequence representations via averaging\n",
    "sequence_representations = []\n",
    "for i, token_len in enumerate(batch_lens):\n",
    "    each_seq_rep = token_representations[i, 1:token_len - 1].mean(0).tolist()  \n",
    "    sequence_representations.append(each_seq_rep)\n",
    "\n",
    "embedding_results = pd.DataFrame(sequence_representations)\n",
    "print(embedding_results)\n",
    "embedding_results.to_csv('X_test_1280.csv')"
   ]
  },
  {
   "cell_type": "code",
   "execution_count": null,
   "id": "f27b0049",
   "metadata": {},
   "outputs": [],
   "source": []
  },
  {
   "cell_type": "code",
   "execution_count": null,
   "id": "f45399df",
   "metadata": {},
   "outputs": [],
   "source": []
  },
  {
   "cell_type": "code",
   "execution_count": null,
   "id": "e81e5c40",
   "metadata": {},
   "outputs": [],
   "source": []
  },
  {
   "cell_type": "code",
   "execution_count": null,
   "id": "faf91b3d",
   "metadata": {},
   "outputs": [],
   "source": []
  },
  {
   "cell_type": "code",
   "execution_count": null,
   "id": "da29e1c0",
   "metadata": {},
   "outputs": [],
   "source": []
  },
  {
   "cell_type": "code",
   "execution_count": null,
   "id": "53d148ac",
   "metadata": {},
   "outputs": [],
   "source": []
  },
  {
   "cell_type": "code",
   "execution_count": null,
   "id": "bec8dfd3",
   "metadata": {},
   "outputs": [],
   "source": []
  },
  {
   "cell_type": "code",
   "execution_count": null,
   "id": "e5c32101",
   "metadata": {},
   "outputs": [],
   "source": []
  },
  {
   "cell_type": "code",
   "execution_count": null,
   "id": "8055b231",
   "metadata": {},
   "outputs": [],
   "source": []
  }
 ],
 "metadata": {
  "kernelspec": {
   "display_name": "sdsd_torch",
   "language": "python",
   "name": "sdsd_torch"
  },
  "language_info": {
   "codemirror_mode": {
    "name": "ipython",
    "version": 3
   },
   "file_extension": ".py",
   "mimetype": "text/x-python",
   "name": "python",
   "nbconvert_exporter": "python",
   "pygments_lexer": "ipython3",
   "version": "3.9.16"
  }
 },
 "nbformat": 4,
 "nbformat_minor": 5
}
